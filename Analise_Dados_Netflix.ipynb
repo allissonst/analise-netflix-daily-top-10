{
  "nbformat": 4,
  "nbformat_minor": 0,
  "metadata": {
    "colab": {
      "name": "Analise_Dados_Netflix.ipynb",
      "provenance": [],
      "collapsed_sections": [],
      "authorship_tag": "ABX9TyPflkzleknlmdddcOPfYNgb",
      "include_colab_link": true
    },
    "kernelspec": {
      "name": "python3",
      "display_name": "Python 3"
    },
    "language_info": {
      "name": "python"
    }
  },
  "cells": [
    {
      "cell_type": "markdown",
      "metadata": {
        "id": "view-in-github",
        "colab_type": "text"
      },
      "source": [
        "<a href=\"https://colab.research.google.com/github/allissonst/analise-netflix-daily-top-10/blob/main/Analise_Dados_Netflix.ipynb\" target=\"_parent\"><img src=\"https://colab.research.google.com/assets/colab-badge.svg\" alt=\"Open In Colab\"/></a>"
      ]
    },
    {
      "cell_type": "markdown",
      "source": [
        "# **Informações sobre os dados de análise**\n",
        "##Netflix Top 10 in the United States\n",
        "\n",
        "#### Os dados analisados pertencem à base “Daily Netflix Top 10 Movie/TV Show in the United States”, pelo qual captura as obras com maior aparição no Top 10 da Netflix, considerando dados de 2020 a março de 2022. Os dados podem ser coletados no [Kaggle](https://www.kaggle.com/prasertk/netflix-daily-top-10-in-us). \n",
        "\n",
        "####Os dados foram coletados no dia 12/03/2022.\n",
        "\n",
        "\n",
        "#### A base de dados comporta dez variáveis, sendo elas:  \n",
        "\n",
        "\n",
        "✅ As of: Data de inicio considerada para a análise;\n",
        "\n",
        "✅ Rank: posição da obra no ranking;\n",
        "\n",
        "✅ Year to Date Rank: classificação do ano até a última data de análise;\n",
        "\n",
        "✅ Last Week Rank: classificação da semana passada\n",
        "\n",
        "✅ Title: título da obra;\n",
        "\n",
        "✅ Type: tipo da obra;\n",
        "\n",
        "✅ Netflix Exclusive: obra exclusiva da Netflix (sim/não);\n",
        "\n",
        "✅ Netflix Release Date: data de lançamento da obra na Netfllix;\n",
        "\n",
        "✅ Days In Top 10: total de dias em que este programa esteve no top 10;\n",
        "\n",
        "✅ Viewership Score: uma pontuação atribuída a cada programa com base em sua classificação diária histórica, atribuindo 10 pontos para cada número.\n"
      ],
      "metadata": {
        "id": "8XcZyOQcSLTk"
      }
    },
    {
      "cell_type": "code",
      "execution_count": 164,
      "metadata": {
        "colab": {
          "base_uri": "https://localhost:8080/",
          "height": 268
        },
        "id": "HfSolfTHJgmB",
        "outputId": "2650335e-abd4-4619-b06d-d7f6b6c02bf2"
      },
      "outputs": [
        {
          "output_type": "stream",
          "name": "stdout",
          "text": [
            "tamanho do data base (linhas, colunas) (7100, 10)\n"
          ]
        },
        {
          "output_type": "execute_result",
          "data": {
            "text/plain": [
              "        as_of  rank year_to_date last_week_rank                         title  \\\n",
              "0  2020-04-01     1            1              1  Tiger King: Murder, Mayhem …   \n",
              "1  2020-04-01     2            2              -                         Ozark   \n",
              "2  2020-04-01     3            3              2                  All American   \n",
              "3  2020-04-01     4            4              -                  Blood Father   \n",
              "4  2020-04-01     5            5              4                  The Platform   \n",
              "\n",
              "      type netflix_exclusive netflix_release_date  days_in_top_10  \\\n",
              "0  TV Show               Yes         Mar 20, 2020               9   \n",
              "1  TV Show               Yes         Jul 21, 2017               5   \n",
              "2  TV Show               Not         Mar 28, 2019               9   \n",
              "3    Movie               Not         Mar 26, 2020               5   \n",
              "4    Movie               Yes         Mar 20, 2020               9   \n",
              "\n",
              "   viewership_score  \n",
              "0                90  \n",
              "1                45  \n",
              "2                76  \n",
              "3                30  \n",
              "4                55  "
            ],
            "text/html": [
              "\n",
              "  <div id=\"df-9e9a69e2-d795-4b4a-b58d-dab10f989693\">\n",
              "    <div class=\"colab-df-container\">\n",
              "      <div>\n",
              "<style scoped>\n",
              "    .dataframe tbody tr th:only-of-type {\n",
              "        vertical-align: middle;\n",
              "    }\n",
              "\n",
              "    .dataframe tbody tr th {\n",
              "        vertical-align: top;\n",
              "    }\n",
              "\n",
              "    .dataframe thead th {\n",
              "        text-align: right;\n",
              "    }\n",
              "</style>\n",
              "<table border=\"1\" class=\"dataframe\">\n",
              "  <thead>\n",
              "    <tr style=\"text-align: right;\">\n",
              "      <th></th>\n",
              "      <th>as_of</th>\n",
              "      <th>rank</th>\n",
              "      <th>year_to_date</th>\n",
              "      <th>last_week_rank</th>\n",
              "      <th>title</th>\n",
              "      <th>type</th>\n",
              "      <th>netflix_exclusive</th>\n",
              "      <th>netflix_release_date</th>\n",
              "      <th>days_in_top_10</th>\n",
              "      <th>viewership_score</th>\n",
              "    </tr>\n",
              "  </thead>\n",
              "  <tbody>\n",
              "    <tr>\n",
              "      <th>0</th>\n",
              "      <td>2020-04-01</td>\n",
              "      <td>1</td>\n",
              "      <td>1</td>\n",
              "      <td>1</td>\n",
              "      <td>Tiger King: Murder, Mayhem …</td>\n",
              "      <td>TV Show</td>\n",
              "      <td>Yes</td>\n",
              "      <td>Mar 20, 2020</td>\n",
              "      <td>9</td>\n",
              "      <td>90</td>\n",
              "    </tr>\n",
              "    <tr>\n",
              "      <th>1</th>\n",
              "      <td>2020-04-01</td>\n",
              "      <td>2</td>\n",
              "      <td>2</td>\n",
              "      <td>-</td>\n",
              "      <td>Ozark</td>\n",
              "      <td>TV Show</td>\n",
              "      <td>Yes</td>\n",
              "      <td>Jul 21, 2017</td>\n",
              "      <td>5</td>\n",
              "      <td>45</td>\n",
              "    </tr>\n",
              "    <tr>\n",
              "      <th>2</th>\n",
              "      <td>2020-04-01</td>\n",
              "      <td>3</td>\n",
              "      <td>3</td>\n",
              "      <td>2</td>\n",
              "      <td>All American</td>\n",
              "      <td>TV Show</td>\n",
              "      <td>Not</td>\n",
              "      <td>Mar 28, 2019</td>\n",
              "      <td>9</td>\n",
              "      <td>76</td>\n",
              "    </tr>\n",
              "    <tr>\n",
              "      <th>3</th>\n",
              "      <td>2020-04-01</td>\n",
              "      <td>4</td>\n",
              "      <td>4</td>\n",
              "      <td>-</td>\n",
              "      <td>Blood Father</td>\n",
              "      <td>Movie</td>\n",
              "      <td>Not</td>\n",
              "      <td>Mar 26, 2020</td>\n",
              "      <td>5</td>\n",
              "      <td>30</td>\n",
              "    </tr>\n",
              "    <tr>\n",
              "      <th>4</th>\n",
              "      <td>2020-04-01</td>\n",
              "      <td>5</td>\n",
              "      <td>5</td>\n",
              "      <td>4</td>\n",
              "      <td>The Platform</td>\n",
              "      <td>Movie</td>\n",
              "      <td>Yes</td>\n",
              "      <td>Mar 20, 2020</td>\n",
              "      <td>9</td>\n",
              "      <td>55</td>\n",
              "    </tr>\n",
              "  </tbody>\n",
              "</table>\n",
              "</div>\n",
              "      <button class=\"colab-df-convert\" onclick=\"convertToInteractive('df-9e9a69e2-d795-4b4a-b58d-dab10f989693')\"\n",
              "              title=\"Convert this dataframe to an interactive table.\"\n",
              "              style=\"display:none;\">\n",
              "        \n",
              "  <svg xmlns=\"http://www.w3.org/2000/svg\" height=\"24px\"viewBox=\"0 0 24 24\"\n",
              "       width=\"24px\">\n",
              "    <path d=\"M0 0h24v24H0V0z\" fill=\"none\"/>\n",
              "    <path d=\"M18.56 5.44l.94 2.06.94-2.06 2.06-.94-2.06-.94-.94-2.06-.94 2.06-2.06.94zm-11 1L8.5 8.5l.94-2.06 2.06-.94-2.06-.94L8.5 2.5l-.94 2.06-2.06.94zm10 10l.94 2.06.94-2.06 2.06-.94-2.06-.94-.94-2.06-.94 2.06-2.06.94z\"/><path d=\"M17.41 7.96l-1.37-1.37c-.4-.4-.92-.59-1.43-.59-.52 0-1.04.2-1.43.59L10.3 9.45l-7.72 7.72c-.78.78-.78 2.05 0 2.83L4 21.41c.39.39.9.59 1.41.59.51 0 1.02-.2 1.41-.59l7.78-7.78 2.81-2.81c.8-.78.8-2.07 0-2.86zM5.41 20L4 18.59l7.72-7.72 1.47 1.35L5.41 20z\"/>\n",
              "  </svg>\n",
              "      </button>\n",
              "      \n",
              "  <style>\n",
              "    .colab-df-container {\n",
              "      display:flex;\n",
              "      flex-wrap:wrap;\n",
              "      gap: 12px;\n",
              "    }\n",
              "\n",
              "    .colab-df-convert {\n",
              "      background-color: #E8F0FE;\n",
              "      border: none;\n",
              "      border-radius: 50%;\n",
              "      cursor: pointer;\n",
              "      display: none;\n",
              "      fill: #1967D2;\n",
              "      height: 32px;\n",
              "      padding: 0 0 0 0;\n",
              "      width: 32px;\n",
              "    }\n",
              "\n",
              "    .colab-df-convert:hover {\n",
              "      background-color: #E2EBFA;\n",
              "      box-shadow: 0px 1px 2px rgba(60, 64, 67, 0.3), 0px 1px 3px 1px rgba(60, 64, 67, 0.15);\n",
              "      fill: #174EA6;\n",
              "    }\n",
              "\n",
              "    [theme=dark] .colab-df-convert {\n",
              "      background-color: #3B4455;\n",
              "      fill: #D2E3FC;\n",
              "    }\n",
              "\n",
              "    [theme=dark] .colab-df-convert:hover {\n",
              "      background-color: #434B5C;\n",
              "      box-shadow: 0px 1px 3px 1px rgba(0, 0, 0, 0.15);\n",
              "      filter: drop-shadow(0px 1px 2px rgba(0, 0, 0, 0.3));\n",
              "      fill: #FFFFFF;\n",
              "    }\n",
              "  </style>\n",
              "\n",
              "      <script>\n",
              "        const buttonEl =\n",
              "          document.querySelector('#df-9e9a69e2-d795-4b4a-b58d-dab10f989693 button.colab-df-convert');\n",
              "        buttonEl.style.display =\n",
              "          google.colab.kernel.accessAllowed ? 'block' : 'none';\n",
              "\n",
              "        async function convertToInteractive(key) {\n",
              "          const element = document.querySelector('#df-9e9a69e2-d795-4b4a-b58d-dab10f989693');\n",
              "          const dataTable =\n",
              "            await google.colab.kernel.invokeFunction('convertToInteractive',\n",
              "                                                     [key], {});\n",
              "          if (!dataTable) return;\n",
              "\n",
              "          const docLinkHtml = 'Like what you see? Visit the ' +\n",
              "            '<a target=\"_blank\" href=https://colab.research.google.com/notebooks/data_table.ipynb>data table notebook</a>'\n",
              "            + ' to learn more about interactive tables.';\n",
              "          element.innerHTML = '';\n",
              "          dataTable['output_type'] = 'display_data';\n",
              "          await google.colab.output.renderOutput(dataTable, element);\n",
              "          const docLink = document.createElement('div');\n",
              "          docLink.innerHTML = docLinkHtml;\n",
              "          element.appendChild(docLink);\n",
              "        }\n",
              "      </script>\n",
              "    </div>\n",
              "  </div>\n",
              "  "
            ]
          },
          "metadata": {},
          "execution_count": 164
        }
      ],
      "source": [
        "#importando bibliotecas\n",
        "import pandas as pd\n",
        "import seaborn as sns\n",
        "import matplotlib.pyplot as plt\n",
        "import numpy as np\n",
        "from statsmodels.stats.weightstats import ztest\n",
        "from statsmodels.stats.weightstats import zconfint\n",
        "import warnings\n",
        "\n",
        "warnings.filterwarnings(\"ignore\")\n",
        "\n",
        "#lendo o dataframe da Netflix\n",
        "netflix = pd.read_csv(\"netflix_daily_top_ten.csv\")\n",
        "print(\"tamanho do data base (linhas, colunas)\", netflix.shape)\n",
        "\n",
        "#renomeando colunas\n",
        "netflix.rename(columns = {'As of':'as_of',\n",
        "                          'Rank':'rank',\n",
        "                          'Year to Date Rank':'year_to_date',\n",
        "                          'Last Week Rank':'last_week_rank',\n",
        "                          'Title':'title',\n",
        "                          'Type':'type',\n",
        "                          'Netflix Exclusive':'netflix_exclusive',\n",
        "                          'Netflix Release Date':'netflix_release_date',\n",
        "                          'Days In Top 10':'days_in_top_10',\n",
        "                          'Viewership Score':'viewership_score'}, inplace = True)\n",
        "\n",
        "#colocando o Not nos campos vazios representado o produto não exclusivo da Netflix\n",
        "netflix['netflix_exclusive'] = netflix['netflix_exclusive'].fillna('Not')\n",
        "\n",
        "netflix.head()\n",
        "\n"
      ]
    },
    {
      "cell_type": "code",
      "source": [
        "#deixando apenas os últimos registros dos produtos, pois os dados são acumulativos\n",
        "netflix = netflix.drop_duplicates(\n",
        "  subset = ['title'],\n",
        "  keep = 'last').reset_index(drop = True)"
      ],
      "metadata": {
        "id": "r7D3jc-iF7eo"
      },
      "execution_count": 165,
      "outputs": []
    },
    {
      "cell_type": "code",
      "source": [
        "#estatísticas descritivas\n",
        "pd.set_option('display.float_format', lambda x: '%.2f' % x)\n",
        "netflix.describe().round(2)[['days_in_top_10','viewership_score']]"
      ],
      "metadata": {
        "colab": {
          "base_uri": "https://localhost:8080/",
          "height": 300
        },
        "id": "-a7OfkaNLzbG",
        "outputId": "acf814d2-d09a-429f-fa54-d246e138ae60"
      },
      "execution_count": 166,
      "outputs": [
        {
          "output_type": "execute_result",
          "data": {
            "text/plain": [
              "       days_in_top_10  viewership_score\n",
              "count          645.00            645.00\n",
              "mean            11.18             61.75\n",
              "std             19.99             97.75\n",
              "min              1.00              1.00\n",
              "25%              4.00             15.00\n",
              "50%              7.00             33.00\n",
              "75%             12.00             68.00\n",
              "max            428.00           1474.00"
            ],
            "text/html": [
              "\n",
              "  <div id=\"df-706732f3-6c9f-4df9-bade-0c87904e8691\">\n",
              "    <div class=\"colab-df-container\">\n",
              "      <div>\n",
              "<style scoped>\n",
              "    .dataframe tbody tr th:only-of-type {\n",
              "        vertical-align: middle;\n",
              "    }\n",
              "\n",
              "    .dataframe tbody tr th {\n",
              "        vertical-align: top;\n",
              "    }\n",
              "\n",
              "    .dataframe thead th {\n",
              "        text-align: right;\n",
              "    }\n",
              "</style>\n",
              "<table border=\"1\" class=\"dataframe\">\n",
              "  <thead>\n",
              "    <tr style=\"text-align: right;\">\n",
              "      <th></th>\n",
              "      <th>days_in_top_10</th>\n",
              "      <th>viewership_score</th>\n",
              "    </tr>\n",
              "  </thead>\n",
              "  <tbody>\n",
              "    <tr>\n",
              "      <th>count</th>\n",
              "      <td>645.00</td>\n",
              "      <td>645.00</td>\n",
              "    </tr>\n",
              "    <tr>\n",
              "      <th>mean</th>\n",
              "      <td>11.18</td>\n",
              "      <td>61.75</td>\n",
              "    </tr>\n",
              "    <tr>\n",
              "      <th>std</th>\n",
              "      <td>19.99</td>\n",
              "      <td>97.75</td>\n",
              "    </tr>\n",
              "    <tr>\n",
              "      <th>min</th>\n",
              "      <td>1.00</td>\n",
              "      <td>1.00</td>\n",
              "    </tr>\n",
              "    <tr>\n",
              "      <th>25%</th>\n",
              "      <td>4.00</td>\n",
              "      <td>15.00</td>\n",
              "    </tr>\n",
              "    <tr>\n",
              "      <th>50%</th>\n",
              "      <td>7.00</td>\n",
              "      <td>33.00</td>\n",
              "    </tr>\n",
              "    <tr>\n",
              "      <th>75%</th>\n",
              "      <td>12.00</td>\n",
              "      <td>68.00</td>\n",
              "    </tr>\n",
              "    <tr>\n",
              "      <th>max</th>\n",
              "      <td>428.00</td>\n",
              "      <td>1474.00</td>\n",
              "    </tr>\n",
              "  </tbody>\n",
              "</table>\n",
              "</div>\n",
              "      <button class=\"colab-df-convert\" onclick=\"convertToInteractive('df-706732f3-6c9f-4df9-bade-0c87904e8691')\"\n",
              "              title=\"Convert this dataframe to an interactive table.\"\n",
              "              style=\"display:none;\">\n",
              "        \n",
              "  <svg xmlns=\"http://www.w3.org/2000/svg\" height=\"24px\"viewBox=\"0 0 24 24\"\n",
              "       width=\"24px\">\n",
              "    <path d=\"M0 0h24v24H0V0z\" fill=\"none\"/>\n",
              "    <path d=\"M18.56 5.44l.94 2.06.94-2.06 2.06-.94-2.06-.94-.94-2.06-.94 2.06-2.06.94zm-11 1L8.5 8.5l.94-2.06 2.06-.94-2.06-.94L8.5 2.5l-.94 2.06-2.06.94zm10 10l.94 2.06.94-2.06 2.06-.94-2.06-.94-.94-2.06-.94 2.06-2.06.94z\"/><path d=\"M17.41 7.96l-1.37-1.37c-.4-.4-.92-.59-1.43-.59-.52 0-1.04.2-1.43.59L10.3 9.45l-7.72 7.72c-.78.78-.78 2.05 0 2.83L4 21.41c.39.39.9.59 1.41.59.51 0 1.02-.2 1.41-.59l7.78-7.78 2.81-2.81c.8-.78.8-2.07 0-2.86zM5.41 20L4 18.59l7.72-7.72 1.47 1.35L5.41 20z\"/>\n",
              "  </svg>\n",
              "      </button>\n",
              "      \n",
              "  <style>\n",
              "    .colab-df-container {\n",
              "      display:flex;\n",
              "      flex-wrap:wrap;\n",
              "      gap: 12px;\n",
              "    }\n",
              "\n",
              "    .colab-df-convert {\n",
              "      background-color: #E8F0FE;\n",
              "      border: none;\n",
              "      border-radius: 50%;\n",
              "      cursor: pointer;\n",
              "      display: none;\n",
              "      fill: #1967D2;\n",
              "      height: 32px;\n",
              "      padding: 0 0 0 0;\n",
              "      width: 32px;\n",
              "    }\n",
              "\n",
              "    .colab-df-convert:hover {\n",
              "      background-color: #E2EBFA;\n",
              "      box-shadow: 0px 1px 2px rgba(60, 64, 67, 0.3), 0px 1px 3px 1px rgba(60, 64, 67, 0.15);\n",
              "      fill: #174EA6;\n",
              "    }\n",
              "\n",
              "    [theme=dark] .colab-df-convert {\n",
              "      background-color: #3B4455;\n",
              "      fill: #D2E3FC;\n",
              "    }\n",
              "\n",
              "    [theme=dark] .colab-df-convert:hover {\n",
              "      background-color: #434B5C;\n",
              "      box-shadow: 0px 1px 3px 1px rgba(0, 0, 0, 0.15);\n",
              "      filter: drop-shadow(0px 1px 2px rgba(0, 0, 0, 0.3));\n",
              "      fill: #FFFFFF;\n",
              "    }\n",
              "  </style>\n",
              "\n",
              "      <script>\n",
              "        const buttonEl =\n",
              "          document.querySelector('#df-706732f3-6c9f-4df9-bade-0c87904e8691 button.colab-df-convert');\n",
              "        buttonEl.style.display =\n",
              "          google.colab.kernel.accessAllowed ? 'block' : 'none';\n",
              "\n",
              "        async function convertToInteractive(key) {\n",
              "          const element = document.querySelector('#df-706732f3-6c9f-4df9-bade-0c87904e8691');\n",
              "          const dataTable =\n",
              "            await google.colab.kernel.invokeFunction('convertToInteractive',\n",
              "                                                     [key], {});\n",
              "          if (!dataTable) return;\n",
              "\n",
              "          const docLinkHtml = 'Like what you see? Visit the ' +\n",
              "            '<a target=\"_blank\" href=https://colab.research.google.com/notebooks/data_table.ipynb>data table notebook</a>'\n",
              "            + ' to learn more about interactive tables.';\n",
              "          element.innerHTML = '';\n",
              "          dataTable['output_type'] = 'display_data';\n",
              "          await google.colab.output.renderOutput(dataTable, element);\n",
              "          const docLink = document.createElement('div');\n",
              "          docLink.innerHTML = docLinkHtml;\n",
              "          element.appendChild(docLink);\n",
              "        }\n",
              "      </script>\n",
              "    </div>\n",
              "  </div>\n",
              "  "
            ]
          },
          "metadata": {},
          "execution_count": 166
        }
      ]
    },
    {
      "cell_type": "code",
      "source": [
        "ax = sns.distplot(netflix.viewership_score)\n",
        "ax.set(xlabel='Pontuação de audiência', ylabel='Densidade')\n",
        "ax.set_title('Pontuação de audiência dos produtos hospedados na Netflix')"
      ],
      "metadata": {
        "colab": {
          "base_uri": "https://localhost:8080/",
          "height": 313
        },
        "id": "lRklZQGWNSzo",
        "outputId": "23928cba-1c98-4bac-df4f-0eab98afbc90"
      },
      "execution_count": 167,
      "outputs": [
        {
          "output_type": "execute_result",
          "data": {
            "text/plain": [
              "Text(0.5, 1.0, 'Pontuação de audiência dos produtos hospedados na Netflix')"
            ]
          },
          "metadata": {},
          "execution_count": 167
        },
        {
          "output_type": "display_data",
          "data": {
            "text/plain": [
              "<Figure size 432x288 with 1 Axes>"
            ],
            "image/png": "[encoded data removed]"
          },
          "metadata": {
            "needs_background": "light"
          }
        }
      ]
    },
    {
      "cell_type": "code",
      "source": [
        "ax = sns.distplot(netflix.viewership_score, norm_hist= False, kde= False)\n",
        "ax.set(xlabel='Pontuação de audiência', ylabel='Frequência')\n",
        "ax.set_title('Pontuação de audiência dos produtos hospedados na Netflix')"
      ],
      "metadata": {
        "colab": {
          "base_uri": "https://localhost:8080/",
          "height": 313
        },
        "id": "4FNPYLc6NWKT",
        "outputId": "ba6cde86-3db2-4f58-d5ea-bee3d9b8bd93"
      },
      "execution_count": 168,
      "outputs": [
        {
          "output_type": "execute_result",
          "data": {
            "text/plain": [
              "Text(0.5, 1.0, 'Pontuação de audiência dos produtos hospedados na Netflix')"
            ]
          },
          "metadata": {},
          "execution_count": 168
        },
        {
          "output_type": "display_data",
          "data": {
            "text/plain": [
              "<Figure size 432x288 with 1 Axes>"
            ],
            "image/png": "[encoded data removed]"
          },
          "metadata": {
            "needs_background": "light"
          }
        }
      ]
    },
    {
      "cell_type": "code",
      "source": [
        "#mostrando o bloxpot\n",
        "ax = sns.boxplot(netflix.viewership_score)\n",
        "ax.set(xlabel='Nota da pontuação de audiência')\n",
        "ax.set_title('Nota da pontuação de audiência de produtos hospedados na Netflix')"
      ],
      "metadata": {
        "colab": {
          "base_uri": "https://localhost:8080/",
          "height": 313
        },
        "id": "SymqlMOzOIHW",
        "outputId": "96e27795-8095-4f6f-9cfc-97fbcb1b970f"
      },
      "execution_count": 169,
      "outputs": [
        {
          "output_type": "execute_result",
          "data": {
            "text/plain": [
              "Text(0.5, 1.0, 'Nota da pontuação de audiência de produtos hospedados na Netflix')"
            ]
          },
          "metadata": {},
          "execution_count": 169
        },
        {
          "output_type": "display_data",
          "data": {
            "text/plain": [
              "<Figure size 432x288 with 1 Axes>"
            ],
            "image/png": "[encoded data removed]"
          },
          "metadata": {
            "needs_background": "light"
          }
        }
      ]
    },
    {
      "cell_type": "markdown",
      "source": [
        "# Identificando e Removendo Outliers"
      ],
      "metadata": {
        "id": "duhJfvsOQDTK"
      }
    },
    {
      "cell_type": "code",
      "source": [
        "valores = netflix[\"viewership_score\"]\n",
        "Q1 = valores.quantile(.25)\n",
        "Q3 = valores.quantile(.75)\n",
        "IIQ = Q3 - Q1\n",
        "limite_inferior = Q1 - 1.5 * IIQ\n",
        "limite_superior = Q3 + 1.5 * IIQ\n",
        "limite_inferior"
      ],
      "metadata": {
        "colab": {
          "base_uri": "https://localhost:8080/"
        },
        "id": "sRGnJV0qOIl3",
        "outputId": "b9c58e8d-5a5e-44ef-bee6-a9481b076afd"
      },
      "execution_count": 170,
      "outputs": [
        {
          "output_type": "execute_result",
          "data": {
            "text/plain": [
              "-64.5"
            ]
          },
          "metadata": {},
          "execution_count": 170
        }
      ]
    },
    {
      "cell_type": "code",
      "source": [
        "netflix.query(f'viewership_score>={limite_inferior} and viewership_score<={limite_superior}').head()"
      ],
      "metadata": {
        "colab": {
          "base_uri": "https://localhost:8080/",
          "height": 250
        },
        "id": "TdeQR8ERPC3I",
        "outputId": "5f3281cb-c286-4ffc-8227-0dad690faece"
      },
      "execution_count": 171,
      "outputs": [
        {
          "output_type": "execute_result",
          "data": {
            "text/plain": [
              "        as_of  rank year_to_date last_week_rank                        title  \\\n",
              "0  2020-04-01     9            8              -                      Badland   \n",
              "1  2020-04-01    10            9              -                     Uncorked   \n",
              "2  2020-04-02     9            5              4                 The Platform   \n",
              "3  2020-04-02    10            6              -  Car Masters: Rust to Riches   \n",
              "4  2020-04-03     9            -              -                         Salt   \n",
              "\n",
              "      type netflix_exclusive netflix_release_date  days_in_top_10  \\\n",
              "0    Movie               Not         Mar 26, 2020               4   \n",
              "1    Movie               Yes         Mar 27, 2020               4   \n",
              "2    Movie               Yes         Mar 20, 2020              10   \n",
              "3  TV Show               Yes         Sep 14, 2018               5   \n",
              "4    Movie               Not          Apr 1, 2020               1   \n",
              "\n",
              "   viewership_score  \n",
              "0                11  \n",
              "1                15  \n",
              "2                57  \n",
              "3                15  \n",
              "4                 2  "
            ],
            "text/html": [
              "\n",
              "  <div id=\"df-daf49435-fce4-464e-aec9-07245971abc7\">\n",
              "    <div class=\"colab-df-container\">\n",
              "      <div>\n",
              "<style scoped>\n",
              "    .dataframe tbody tr th:only-of-type {\n",
              "        vertical-align: middle;\n",
              "    }\n",
              "\n",
              "    .dataframe tbody tr th {\n",
              "        vertical-align: top;\n",
              "    }\n",
              "\n",
              "    .dataframe thead th {\n",
              "        text-align: right;\n",
              "    }\n",
              "</style>\n",
              "<table border=\"1\" class=\"dataframe\">\n",
              "  <thead>\n",
              "    <tr style=\"text-align: right;\">\n",
              "      <th></th>\n",
              "      <th>as_of</th>\n",
              "      <th>rank</th>\n",
              "      <th>year_to_date</th>\n",
              "      <th>last_week_rank</th>\n",
              "      <th>title</th>\n",
              "      <th>type</th>\n",
              "      <th>netflix_exclusive</th>\n",
              "      <th>netflix_release_date</th>\n",
              "      <th>days_in_top_10</th>\n",
              "      <th>viewership_score</th>\n",
              "    </tr>\n",
              "  </thead>\n",
              "  <tbody>\n",
              "    <tr>\n",
              "      <th>0</th>\n",
              "      <td>2020-04-01</td>\n",
              "      <td>9</td>\n",
              "      <td>8</td>\n",
              "      <td>-</td>\n",
              "      <td>Badland</td>\n",
              "      <td>Movie</td>\n",
              "      <td>Not</td>\n",
              "      <td>Mar 26, 2020</td>\n",
              "      <td>4</td>\n",
              "      <td>11</td>\n",
              "    </tr>\n",
              "    <tr>\n",
              "      <th>1</th>\n",
              "      <td>2020-04-01</td>\n",
              "      <td>10</td>\n",
              "      <td>9</td>\n",
              "      <td>-</td>\n",
              "      <td>Uncorked</td>\n",
              "      <td>Movie</td>\n",
              "      <td>Yes</td>\n",
              "      <td>Mar 27, 2020</td>\n",
              "      <td>4</td>\n",
              "      <td>15</td>\n",
              "    </tr>\n",
              "    <tr>\n",
              "      <th>2</th>\n",
              "      <td>2020-04-02</td>\n",
              "      <td>9</td>\n",
              "      <td>5</td>\n",
              "      <td>4</td>\n",
              "      <td>The Platform</td>\n",
              "      <td>Movie</td>\n",
              "      <td>Yes</td>\n",
              "      <td>Mar 20, 2020</td>\n",
              "      <td>10</td>\n",
              "      <td>57</td>\n",
              "    </tr>\n",
              "    <tr>\n",
              "      <th>3</th>\n",
              "      <td>2020-04-02</td>\n",
              "      <td>10</td>\n",
              "      <td>6</td>\n",
              "      <td>-</td>\n",
              "      <td>Car Masters: Rust to Riches</td>\n",
              "      <td>TV Show</td>\n",
              "      <td>Yes</td>\n",
              "      <td>Sep 14, 2018</td>\n",
              "      <td>5</td>\n",
              "      <td>15</td>\n",
              "    </tr>\n",
              "    <tr>\n",
              "      <th>4</th>\n",
              "      <td>2020-04-03</td>\n",
              "      <td>9</td>\n",
              "      <td>-</td>\n",
              "      <td>-</td>\n",
              "      <td>Salt</td>\n",
              "      <td>Movie</td>\n",
              "      <td>Not</td>\n",
              "      <td>Apr 1, 2020</td>\n",
              "      <td>1</td>\n",
              "      <td>2</td>\n",
              "    </tr>\n",
              "  </tbody>\n",
              "</table>\n",
              "</div>\n",
              "      <button class=\"colab-df-convert\" onclick=\"convertToInteractive('df-daf49435-fce4-464e-aec9-07245971abc7')\"\n",
              "              title=\"Convert this dataframe to an interactive table.\"\n",
              "              style=\"display:none;\">\n",
              "        \n",
              "  <svg xmlns=\"http://www.w3.org/2000/svg\" height=\"24px\"viewBox=\"0 0 24 24\"\n",
              "       width=\"24px\">\n",
              "    <path d=\"M0 0h24v24H0V0z\" fill=\"none\"/>\n",
              "    <path d=\"M18.56 5.44l.94 2.06.94-2.06 2.06-.94-2.06-.94-.94-2.06-.94 2.06-2.06.94zm-11 1L8.5 8.5l.94-2.06 2.06-.94-2.06-.94L8.5 2.5l-.94 2.06-2.06.94zm10 10l.94 2.06.94-2.06 2.06-.94-2.06-.94-.94-2.06-.94 2.06-2.06.94z\"/><path d=\"M17.41 7.96l-1.37-1.37c-.4-.4-.92-.59-1.43-.59-.52 0-1.04.2-1.43.59L10.3 9.45l-7.72 7.72c-.78.78-.78 2.05 0 2.83L4 21.41c.39.39.9.59 1.41.59.51 0 1.02-.2 1.41-.59l7.78-7.78 2.81-2.81c.8-.78.8-2.07 0-2.86zM5.41 20L4 18.59l7.72-7.72 1.47 1.35L5.41 20z\"/>\n",
              "  </svg>\n",
              "      </button>\n",
              "      \n",
              "  <style>\n",
              "    .colab-df-container {\n",
              "      display:flex;\n",
              "      flex-wrap:wrap;\n",
              "      gap: 12px;\n",
              "    }\n",
              "\n",
              "    .colab-df-convert {\n",
              "      background-color: #E8F0FE;\n",
              "      border: none;\n",
              "      border-radius: 50%;\n",
              "      cursor: pointer;\n",
              "      display: none;\n",
              "      fill: #1967D2;\n",
              "      height: 32px;\n",
              "      padding: 0 0 0 0;\n",
              "      width: 32px;\n",
              "    }\n",
              "\n",
              "    .colab-df-convert:hover {\n",
              "      background-color: #E2EBFA;\n",
              "      box-shadow: 0px 1px 2px rgba(60, 64, 67, 0.3), 0px 1px 3px 1px rgba(60, 64, 67, 0.15);\n",
              "      fill: #174EA6;\n",
              "    }\n",
              "\n",
              "    [theme=dark] .colab-df-convert {\n",
              "      background-color: #3B4455;\n",
              "      fill: #D2E3FC;\n",
              "    }\n",
              "\n",
              "    [theme=dark] .colab-df-convert:hover {\n",
              "      background-color: #434B5C;\n",
              "      box-shadow: 0px 1px 3px 1px rgba(0, 0, 0, 0.15);\n",
              "      filter: drop-shadow(0px 1px 2px rgba(0, 0, 0, 0.3));\n",
              "      fill: #FFFFFF;\n",
              "    }\n",
              "  </style>\n",
              "\n",
              "      <script>\n",
              "        const buttonEl =\n",
              "          document.querySelector('#df-daf49435-fce4-464e-aec9-07245971abc7 button.colab-df-convert');\n",
              "        buttonEl.style.display =\n",
              "          google.colab.kernel.accessAllowed ? 'block' : 'none';\n",
              "\n",
              "        async function convertToInteractive(key) {\n",
              "          const element = document.querySelector('#df-daf49435-fce4-464e-aec9-07245971abc7');\n",
              "          const dataTable =\n",
              "            await google.colab.kernel.invokeFunction('convertToInteractive',\n",
              "                                                     [key], {});\n",
              "          if (!dataTable) return;\n",
              "\n",
              "          const docLinkHtml = 'Like what you see? Visit the ' +\n",
              "            '<a target=\"_blank\" href=https://colab.research.google.com/notebooks/data_table.ipynb>data table notebook</a>'\n",
              "            + ' to learn more about interactive tables.';\n",
              "          element.innerHTML = '';\n",
              "          dataTable['output_type'] = 'display_data';\n",
              "          await google.colab.output.renderOutput(dataTable, element);\n",
              "          const docLink = document.createElement('div');\n",
              "          docLink.innerHTML = docLinkHtml;\n",
              "          element.appendChild(docLink);\n",
              "        }\n",
              "      </script>\n",
              "    </div>\n",
              "  </div>\n",
              "  "
            ]
          },
          "metadata": {},
          "execution_count": 171
        }
      ]
    },
    {
      "cell_type": "code",
      "source": [
        "netflix_sem_outliers = netflix.query(f'viewership_score>={limite_inferior} and viewership_score<={limite_superior}')\n",
        "netflix_sem_outliers.describe()"
      ],
      "metadata": {
        "colab": {
          "base_uri": "https://localhost:8080/",
          "height": 300
        },
        "id": "lLPMiKCsPcHm",
        "outputId": "db22aa05-2003-4273-9cf3-edf67f61aba2"
      },
      "execution_count": 172,
      "outputs": [
        {
          "output_type": "execute_result",
          "data": {
            "text/plain": [
              "        rank  days_in_top_10  viewership_score\n",
              "count 585.00          585.00            585.00\n",
              "mean    8.74            7.70             38.96\n",
              "std     1.40            5.18             33.10\n",
              "min     1.00            1.00              1.00\n",
              "25%     8.00            4.00             13.00\n",
              "50%     9.00            7.00             29.00\n",
              "75%    10.00           10.00             58.00\n",
              "max    10.00           34.00            145.00"
            ],
            "text/html": [
              "\n",
              "  <div id=\"df-faac5608-3eb1-449c-8484-ae9e6680d653\">\n",
              "    <div class=\"colab-df-container\">\n",
              "      <div>\n",
              "<style scoped>\n",
              "    .dataframe tbody tr th:only-of-type {\n",
              "        vertical-align: middle;\n",
              "    }\n",
              "\n",
              "    .dataframe tbody tr th {\n",
              "        vertical-align: top;\n",
              "    }\n",
              "\n",
              "    .dataframe thead th {\n",
              "        text-align: right;\n",
              "    }\n",
              "</style>\n",
              "<table border=\"1\" class=\"dataframe\">\n",
              "  <thead>\n",
              "    <tr style=\"text-align: right;\">\n",
              "      <th></th>\n",
              "      <th>rank</th>\n",
              "      <th>days_in_top_10</th>\n",
              "      <th>viewership_score</th>\n",
              "    </tr>\n",
              "  </thead>\n",
              "  <tbody>\n",
              "    <tr>\n",
              "      <th>count</th>\n",
              "      <td>585.00</td>\n",
              "      <td>585.00</td>\n",
              "      <td>585.00</td>\n",
              "    </tr>\n",
              "    <tr>\n",
              "      <th>mean</th>\n",
              "      <td>8.74</td>\n",
              "      <td>7.70</td>\n",
              "      <td>38.96</td>\n",
              "    </tr>\n",
              "    <tr>\n",
              "      <th>std</th>\n",
              "      <td>1.40</td>\n",
              "      <td>5.18</td>\n",
              "      <td>33.10</td>\n",
              "    </tr>\n",
              "    <tr>\n",
              "      <th>min</th>\n",
              "      <td>1.00</td>\n",
              "      <td>1.00</td>\n",
              "      <td>1.00</td>\n",
              "    </tr>\n",
              "    <tr>\n",
              "      <th>25%</th>\n",
              "      <td>8.00</td>\n",
              "      <td>4.00</td>\n",
              "      <td>13.00</td>\n",
              "    </tr>\n",
              "    <tr>\n",
              "      <th>50%</th>\n",
              "      <td>9.00</td>\n",
              "      <td>7.00</td>\n",
              "      <td>29.00</td>\n",
              "    </tr>\n",
              "    <tr>\n",
              "      <th>75%</th>\n",
              "      <td>10.00</td>\n",
              "      <td>10.00</td>\n",
              "      <td>58.00</td>\n",
              "    </tr>\n",
              "    <tr>\n",
              "      <th>max</th>\n",
              "      <td>10.00</td>\n",
              "      <td>34.00</td>\n",
              "      <td>145.00</td>\n",
              "    </tr>\n",
              "  </tbody>\n",
              "</table>\n",
              "</div>\n",
              "      <button class=\"colab-df-convert\" onclick=\"convertToInteractive('df-faac5608-3eb1-449c-8484-ae9e6680d653')\"\n",
              "              title=\"Convert this dataframe to an interactive table.\"\n",
              "              style=\"display:none;\">\n",
              "        \n",
              "  <svg xmlns=\"http://www.w3.org/2000/svg\" height=\"24px\"viewBox=\"0 0 24 24\"\n",
              "       width=\"24px\">\n",
              "    <path d=\"M0 0h24v24H0V0z\" fill=\"none\"/>\n",
              "    <path d=\"M18.56 5.44l.94 2.06.94-2.06 2.06-.94-2.06-.94-.94-2.06-.94 2.06-2.06.94zm-11 1L8.5 8.5l.94-2.06 2.06-.94-2.06-.94L8.5 2.5l-.94 2.06-2.06.94zm10 10l.94 2.06.94-2.06 2.06-.94-2.06-.94-.94-2.06-.94 2.06-2.06.94z\"/><path d=\"M17.41 7.96l-1.37-1.37c-.4-.4-.92-.59-1.43-.59-.52 0-1.04.2-1.43.59L10.3 9.45l-7.72 7.72c-.78.78-.78 2.05 0 2.83L4 21.41c.39.39.9.59 1.41.59.51 0 1.02-.2 1.41-.59l7.78-7.78 2.81-2.81c.8-.78.8-2.07 0-2.86zM5.41 20L4 18.59l7.72-7.72 1.47 1.35L5.41 20z\"/>\n",
              "  </svg>\n",
              "      </button>\n",
              "      \n",
              "  <style>\n",
              "    .colab-df-container {\n",
              "      display:flex;\n",
              "      flex-wrap:wrap;\n",
              "      gap: 12px;\n",
              "    }\n",
              "\n",
              "    .colab-df-convert {\n",
              "      background-color: #E8F0FE;\n",
              "      border: none;\n",
              "      border-radius: 50%;\n",
              "      cursor: pointer;\n",
              "      display: none;\n",
              "      fill: #1967D2;\n",
              "      height: 32px;\n",
              "      padding: 0 0 0 0;\n",
              "      width: 32px;\n",
              "    }\n",
              "\n",
              "    .colab-df-convert:hover {\n",
              "      background-color: #E2EBFA;\n",
              "      box-shadow: 0px 1px 2px rgba(60, 64, 67, 0.3), 0px 1px 3px 1px rgba(60, 64, 67, 0.15);\n",
              "      fill: #174EA6;\n",
              "    }\n",
              "\n",
              "    [theme=dark] .colab-df-convert {\n",
              "      background-color: #3B4455;\n",
              "      fill: #D2E3FC;\n",
              "    }\n",
              "\n",
              "    [theme=dark] .colab-df-convert:hover {\n",
              "      background-color: #434B5C;\n",
              "      box-shadow: 0px 1px 3px 1px rgba(0, 0, 0, 0.15);\n",
              "      filter: drop-shadow(0px 1px 2px rgba(0, 0, 0, 0.3));\n",
              "      fill: #FFFFFF;\n",
              "    }\n",
              "  </style>\n",
              "\n",
              "      <script>\n",
              "        const buttonEl =\n",
              "          document.querySelector('#df-faac5608-3eb1-449c-8484-ae9e6680d653 button.colab-df-convert');\n",
              "        buttonEl.style.display =\n",
              "          google.colab.kernel.accessAllowed ? 'block' : 'none';\n",
              "\n",
              "        async function convertToInteractive(key) {\n",
              "          const element = document.querySelector('#df-faac5608-3eb1-449c-8484-ae9e6680d653');\n",
              "          const dataTable =\n",
              "            await google.colab.kernel.invokeFunction('convertToInteractive',\n",
              "                                                     [key], {});\n",
              "          if (!dataTable) return;\n",
              "\n",
              "          const docLinkHtml = 'Like what you see? Visit the ' +\n",
              "            '<a target=\"_blank\" href=https://colab.research.google.com/notebooks/data_table.ipynb>data table notebook</a>'\n",
              "            + ' to learn more about interactive tables.';\n",
              "          element.innerHTML = '';\n",
              "          dataTable['output_type'] = 'display_data';\n",
              "          await google.colab.output.renderOutput(dataTable, element);\n",
              "          const docLink = document.createElement('div');\n",
              "          docLink.innerHTML = docLinkHtml;\n",
              "          element.appendChild(docLink);\n",
              "        }\n",
              "      </script>\n",
              "    </div>\n",
              "  </div>\n",
              "  "
            ]
          },
          "metadata": {},
          "execution_count": 172
        }
      ]
    },
    {
      "cell_type": "code",
      "source": [
        "ax = sns.boxplot(netflix_sem_outliers.viewership_score)\n",
        "ax.set(xlabel='Pontuação dos produtos hospedados na Netflix')\n",
        "ax.set_title('Distribuição da pontuação de audiência de produtos hospedados na Netflix (- outliers)')"
      ],
      "metadata": {
        "colab": {
          "base_uri": "https://localhost:8080/",
          "height": 312
        },
        "id": "5UF_6ug3Qb1Z",
        "outputId": "92c69f88-c8e8-406f-e241-9c3e3a770736"
      },
      "execution_count": 173,
      "outputs": [
        {
          "output_type": "execute_result",
          "data": {
            "text/plain": [
              "Text(0.5, 1.0, 'Distribuição da pontuação de audiência de produtos hospedados na Netflix (- outliers)')"
            ]
          },
          "metadata": {},
          "execution_count": 173
        },
        {
          "output_type": "display_data",
          "data": {
            "text/plain": [
              "<Figure size 432x288 with 1 Axes>"
            ],
            "image/png": "[encoded data removed]"
          },
          "metadata": {
            "needs_background": "light"
          }
        }
      ]
    },
    {
      "cell_type": "code",
      "source": [
        "ax = sns.distplot(netflix_sem_outliers.viewership_score)\n",
        "ax.set(xlabel='Pontuação dos produtos hospedados na Netflix', ylabel='Densidade')\n",
        "ax.set_title('Distribuição da pontuação de audiência de produtos hospedados na Netflix (- outliers)')"
      ],
      "metadata": {
        "colab": {
          "base_uri": "https://localhost:8080/",
          "height": 312
        },
        "id": "eaL2uM2fQwEs",
        "outputId": "6e63c106-d561-4e4f-920f-1ad711de66a4"
      },
      "execution_count": 174,
      "outputs": [
        {
          "output_type": "execute_result",
          "data": {
            "text/plain": [
              "Text(0.5, 1.0, 'Distribuição da pontuação de audiência de produtos hospedados na Netflix (- outliers)')"
            ]
          },
          "metadata": {},
          "execution_count": 174
        },
        {
          "output_type": "display_data",
          "data": {
            "text/plain": [
              "<Figure size 432x288 with 1 Axes>"
            ],
            "image/png": "[encoded data removed]"
          },
          "metadata": {
            "needs_background": "light"
          }
        }
      ]
    },
    {
      "cell_type": "markdown",
      "source": [
        "**Analisando mais profundamente a pontuação dos produtos**"
      ],
      "metadata": {
        "id": "fjIKPJg8RqFH"
      }
    },
    {
      "cell_type": "code",
      "source": [
        "#analisando a média da pontuação por tipo de produto hospedado na Netflix\n",
        "pontuacao_media_por_tipo = netflix.groupby(\"type\").mean()[\"viewership_score\"]\n",
        "pontuacao_media_por_tipo"
      ],
      "metadata": {
        "colab": {
          "base_uri": "https://localhost:8080/"
        },
        "id": "i2mgoGdFR3DN",
        "outputId": "d2496007-2a2c-4b87-bdc2-1c5f22292799"
      },
      "execution_count": 175,
      "outputs": [
        {
          "output_type": "execute_result",
          "data": {
            "text/plain": [
              "type\n",
              "Concert/Perf…     15.00\n",
              "Movie             39.51\n",
              "Stand-Up Comedy   38.00\n",
              "TV Show           90.31\n",
              "Name: viewership_score, dtype: float64"
            ]
          },
          "metadata": {},
          "execution_count": 175
        }
      ]
    },
    {
      "cell_type": "code",
      "source": [
        "#analisando a média da pontuação por produto exclusivo da Netflix (sim ou não)\n",
        "pontuacao_media_por_exclusivo_netflix = netflix.groupby(\"netflix_exclusive\").mean()[\"viewership_score\"]\n",
        "pontuacao_media_por_exclusivo_netflix "
      ],
      "metadata": {
        "colab": {
          "base_uri": "https://localhost:8080/"
        },
        "id": "Rc76zAADJcka",
        "outputId": "56a08e4e-dbeb-464d-bdad-d2bc221be68b"
      },
      "execution_count": 176,
      "outputs": [
        {
          "output_type": "execute_result",
          "data": {
            "text/plain": [
              "netflix_exclusive\n",
              "Not   49.04\n",
              "Yes   69.09\n",
              "Name: viewership_score, dtype: float64"
            ]
          },
          "metadata": {},
          "execution_count": 176
        }
      ]
    },
    {
      "cell_type": "markdown",
      "source": [
        "# **Análise Cumulativa da pontuação do catálogo da Netflix**"
      ],
      "metadata": {
        "id": "8J2UCuEBUTKf"
      }
    },
    {
      "cell_type": "code",
      "source": [
        "ax = sns.distplot(netflix.viewership_score, \n",
        "                  hist_kws = {'cumulative':True}, \n",
        "                  kde_kws = {'cumulative':True})\n",
        "ax.set(xlabel='Pontuação', ylabel='Proporção acumulada da pontuação do catálogo da Netflix')\n",
        "ax.set_title('Pontuação de audiência do catálogo da Netflix')"
      ],
      "metadata": {
        "colab": {
          "base_uri": "https://localhost:8080/",
          "height": 340
        },
        "id": "WZUbH7_xT8Ag",
        "outputId": "a066a5fa-ab48-43d0-d277-df063445a5d6"
      },
      "execution_count": 177,
      "outputs": [
        {
          "output_type": "execute_result",
          "data": {
            "text/plain": [
              "Text(0.5, 1.0, 'Pontuação de audiência do catálogo da Netflix')"
            ]
          },
          "metadata": {},
          "execution_count": 177
        },
        {
          "output_type": "display_data",
          "data": {
            "text/plain": [
              "<Figure size 432x288 with 1 Axes>"
            ],
            "image/png": "[encoded data removed]"
          },
          "metadata": {
            "needs_background": "light"
          }
        }
      ]
    },
    {
      "cell_type": "code",
      "source": [
        "ax = sns.distplot(netflix_sem_outliers.viewership_score, \n",
        "                  hist_kws = {'cumulative':True}, \n",
        "                  kde_kws = {'cumulative':True})\n",
        "ax.set(xlabel='Pontuação de audiência', ylabel='Proporção acumulada da pontuação (- outliers) do catálogo da Netflix')\n",
        "ax.set_title('Pontuação de audiência (- outliers) do catálogo da Netflix')"
      ],
      "metadata": {
        "colab": {
          "base_uri": "https://localhost:8080/",
          "height": 395
        },
        "id": "woZttR_mT_cb",
        "outputId": "e8549dd9-9aca-4e57-d23d-a559a1cae3bd"
      },
      "execution_count": 178,
      "outputs": [
        {
          "output_type": "execute_result",
          "data": {
            "text/plain": [
              "Text(0.5, 1.0, 'Pontuação de audiência (- outliers) do catálogo da Netflix')"
            ]
          },
          "metadata": {},
          "execution_count": 178
        },
        {
          "output_type": "display_data",
          "data": {
            "text/plain": [
              "<Figure size 432x288 with 1 Axes>"
            ],
            "image/png": "[encoded data removed]"
          },
          "metadata": {
            "needs_background": "light"
          }
        }
      ]
    },
    {
      "cell_type": "markdown",
      "source": [
        "# Analisando outros campos do df netflix"
      ],
      "metadata": {
        "id": "nONRguCKYtYo"
      }
    },
    {
      "cell_type": "code",
      "source": [
        "ax = sns.distplot(netflix.query(\"days_in_top_10 > 0\").days_in_top_10)\n",
        "ax.set(xlabel='Dias em top 10', ylabel='Densidade')\n",
        "ax.set_title('Quantidade de dias dos produtos Netflix em top 10')"
      ],
      "metadata": {
        "colab": {
          "base_uri": "https://localhost:8080/",
          "height": 312
        },
        "id": "nTCI8g_4YNUj",
        "outputId": "54444343-476e-44af-8683-6488a2d9abd4"
      },
      "execution_count": 179,
      "outputs": [
        {
          "output_type": "execute_result",
          "data": {
            "text/plain": [
              "Text(0.5, 1.0, 'Quantidade de dias dos produtos Netflix em top 10')"
            ]
          },
          "metadata": {},
          "execution_count": 179
        },
        {
          "output_type": "display_data",
          "data": {
            "text/plain": [
              "<Figure size 432x288 with 1 Axes>"
            ],
            "image/png": "[encoded data removed]"
          },
          "metadata": {
            "needs_background": "light"
          }
        }
      ]
    },
    {
      "cell_type": "code",
      "source": [
        "ax = sns.distplot(netflix_sem_outliers.query(\"days_in_top_10 > 0\").days_in_top_10)\n",
        "ax.set(xlabel='Dias em top 10', ylabel='Densidade')\n",
        "ax.set_title('Quantidade de dias dos produtos Netflix (- outliers) em top 10')"
      ],
      "metadata": {
        "colab": {
          "base_uri": "https://localhost:8080/",
          "height": 312
        },
        "id": "71vT35k5bjdV",
        "outputId": "3248ff66-52aa-4374-e93c-8ac36970e44e"
      },
      "execution_count": 180,
      "outputs": [
        {
          "output_type": "execute_result",
          "data": {
            "text/plain": [
              "Text(0.5, 1.0, 'Quantidade de dias dos produtos Netflix (- outliers) em top 10')"
            ]
          },
          "metadata": {},
          "execution_count": 180
        },
        {
          "output_type": "display_data",
          "data": {
            "text/plain": [
              "<Figure size 432x288 with 1 Axes>"
            ],
            "image/png": "[encoded data removed]"
          },
          "metadata": {
            "needs_background": "light"
          }
        }
      ]
    },
    {
      "cell_type": "code",
      "source": [
        "print(\"Média da quantidade de vezes no ranking top 10:\", round(netflix.viewership_score.mean()))"
      ],
      "metadata": {
        "colab": {
          "base_uri": "https://localhost:8080/"
        },
        "id": "olEEAhCbamkM",
        "outputId": "20578928-9c40-40cc-f571-24b30ccb9f61"
      },
      "execution_count": 181,
      "outputs": [
        {
          "output_type": "stream",
          "name": "stdout",
          "text": [
            "Média da quantidade de vezes no ranking top 10: 62\n"
          ]
        }
      ]
    },
    {
      "cell_type": "code",
      "source": [
        "#Média da pontuação considerando [0:a inclusão de novas observações]\n",
        "medias = list()\n",
        "for i in range(1, len(netflix.viewership_score)):\n",
        "    medias.append(netflix.viewership_score[0:i].mean())\n",
        "medias"
      ],
      "metadata": {
        "colab": {
          "base_uri": "https://localhost:8080/"
        },
        "id": "_x0vCpHca0qH",
        "outputId": "5139985c-b7b2-407e-8e2a-62aa318235c1"
      },
      "execution_count": 182,
      "outputs": [
        {
          "output_type": "execute_result",
          "data": {
            "text/plain": [
              "[11.0,\n",
              " 13.0,\n",
              " 27.666666666666668,\n",
              " 24.5,\n",
              " 20.0,\n",
              " 22.666666666666668,\n",
              " 20.0,\n",
              " 19.375,\n",
              " 19.22222222222222,\n",
              " 20.2,\n",
              " 18.636363636363637,\n",
              " 21.333333333333332,\n",
              " 19.846153846153847,\n",
              " 19.5,\n",
              " 20.0,\n",
              " 19.125,\n",
              " 21.647058823529413,\n",
              " 21.333333333333332,\n",
              " 23.05263157894737,\n",
              " 24.45,\n",
              " 23.38095238095238,\n",
              " 23.545454545454547,\n",
              " 22.652173913043477,\n",
              " 23.166666666666668,\n",
              " 22.6,\n",
              " 22.423076923076923,\n",
              " 21.88888888888889,\n",
              " 23.464285714285715,\n",
              " 25.103448275862068,\n",
              " 24.366666666666667,\n",
              " 24.387096774193548,\n",
              " 24.46875,\n",
              " 24.242424242424242,\n",
              " 25.352941176470587,\n",
              " 25.34285714285714,\n",
              " 25.5,\n",
              " 27.43243243243243,\n",
              " 27.526315789473685,\n",
              " 26.846153846153847,\n",
              " 27.1,\n",
              " 28.390243902439025,\n",
              " 28.214285714285715,\n",
              " 27.906976744186046,\n",
              " 28.40909090909091,\n",
              " 28.266666666666666,\n",
              " 27.847826086956523,\n",
              " 27.617021276595743,\n",
              " 27.4375,\n",
              " 27.755102040816325,\n",
              " 29.26,\n",
              " 29.372549019607842,\n",
              " 29.346153846153847,\n",
              " 32.16981132075472,\n",
              " 32.851851851851855,\n",
              " 32.527272727272724,\n",
              " 32.142857142857146,\n",
              " 31.94736842105263,\n",
              " 31.93103448275862,\n",
              " 31.491525423728813,\n",
              " 30.983333333333334,\n",
              " 31.491803278688526,\n",
              " 31.35483870967742,\n",
              " 30.904761904761905,\n",
              " 31.28125,\n",
              " 31.276923076923076,\n",
              " 31.318181818181817,\n",
              " 31.149253731343283,\n",
              " 30.794117647058822,\n",
              " 30.492753623188406,\n",
              " 30.52857142857143,\n",
              " 32.38028169014085,\n",
              " 32.31944444444444,\n",
              " 31.986301369863014,\n",
              " 32.33783783783784,\n",
              " 32.68,\n",
              " 32.276315789473685,\n",
              " 32.15584415584416,\n",
              " 32.03846153846154,\n",
              " 34.08860759493671,\n",
              " 35.0,\n",
              " 35.28395061728395,\n",
              " 35.146341463414636,\n",
              " 37.28915662650602,\n",
              " 37.0,\n",
              " 36.588235294117645,\n",
              " 36.76744186046512,\n",
              " 36.51724137931034,\n",
              " 38.04545454545455,\n",
              " 37.87640449438202,\n",
              " 37.98888888888889,\n",
              " 37.582417582417584,\n",
              " 37.43478260869565,\n",
              " 38.225806451612904,\n",
              " 39.56382978723404,\n",
              " 39.61052631578947,\n",
              " 40.15625,\n",
              " 40.371134020618555,\n",
              " 40.09183673469388,\n",
              " 40.77777777777778,\n",
              " 40.59,\n",
              " 41.21782178217822,\n",
              " 41.01960784313726,\n",
              " 41.25242718446602,\n",
              " 40.91346153846154,\n",
              " 40.60952380952381,\n",
              " 40.509433962264154,\n",
              " 41.242990654205606,\n",
              " 40.9537037037037,\n",
              " 41.12844036697248,\n",
              " 41.63636363636363,\n",
              " 41.306306306306304,\n",
              " 41.080357142857146,\n",
              " 40.876106194690266,\n",
              " 40.69298245614035,\n",
              " 40.582608695652176,\n",
              " 40.4051724137931,\n",
              " 41.17094017094017,\n",
              " 40.86440677966102,\n",
              " 40.72268907563025,\n",
              " 40.74166666666667,\n",
              " 40.611570247933884,\n",
              " 40.942622950819676,\n",
              " 40.80487804878049,\n",
              " 40.49193548387097,\n",
              " 40.232,\n",
              " 40.54761904761905,\n",
              " 40.56692913385827,\n",
              " 40.2734375,\n",
              " 40.41860465116279,\n",
              " 40.315384615384616,\n",
              " 40.33587786259542,\n",
              " 40.25,\n",
              " 40.02255639097744,\n",
              " 40.41044776119403,\n",
              " 40.22962962962963,\n",
              " 40.919117647058826,\n",
              " 40.824817518248175,\n",
              " 40.70289855072464,\n",
              " 40.726618705035975,\n",
              " 40.48571428571429,\n",
              " 40.52482269503546,\n",
              " 42.056338028169016,\n",
              " 42.02097902097902,\n",
              " 41.8125,\n",
              " 41.55172413793103,\n",
              " 41.28082191780822,\n",
              " 41.183673469387756,\n",
              " 41.229729729729726,\n",
              " 41.348993288590606,\n",
              " 41.42,\n",
              " 41.58278145695364,\n",
              " 41.5328947368421,\n",
              " 41.333333333333336,\n",
              " 41.09090909090909,\n",
              " 41.10322580645161,\n",
              " 40.955128205128204,\n",
              " 40.70063694267516,\n",
              " 40.46835443037975,\n",
              " 40.25157232704402,\n",
              " 40.30625,\n",
              " 40.38509316770186,\n",
              " 40.24691358024691,\n",
              " 40.32515337423313,\n",
              " 40.353658536585364,\n",
              " 41.054545454545455,\n",
              " 40.86746987951807,\n",
              " 41.01796407185629,\n",
              " 41.214285714285715,\n",
              " 41.0414201183432,\n",
              " 41.10588235294118,\n",
              " 41.05263157894737,\n",
              " 41.02906976744186,\n",
              " 40.85549132947977,\n",
              " 41.1551724137931,\n",
              " 41.034285714285716,\n",
              " 40.84659090909091,\n",
              " 40.80790960451977,\n",
              " 40.63483146067416,\n",
              " 40.45810055865922,\n",
              " 40.455555555555556,\n",
              " 41.28176795580111,\n",
              " 41.6978021978022,\n",
              " 41.69398907103825,\n",
              " 41.47826086956522,\n",
              " 41.31351351351351,\n",
              " 41.17204301075269,\n",
              " 41.13903743315508,\n",
              " 40.93617021276596,\n",
              " 41.04761904761905,\n",
              " 41.0,\n",
              " 40.84293193717277,\n",
              " 40.6875,\n",
              " 40.64766839378238,\n",
              " 41.03092783505155,\n",
              " 41.05128205128205,\n",
              " 42.07142857142857,\n",
              " 42.15736040609137,\n",
              " 42.111111111111114,\n",
              " 42.608040201005025,\n",
              " 42.49,\n",
              " 42.38805970149254,\n",
              " 42.366336633663366,\n",
              " 43.064039408866996,\n",
              " 43.02450980392157,\n",
              " 43.204878048780486,\n",
              " 43.04368932038835,\n",
              " 42.91304347826087,\n",
              " 42.80769230769231,\n",
              " 42.6267942583732,\n",
              " 42.857142857142854,\n",
              " 42.92890995260664,\n",
              " 42.9622641509434,\n",
              " 42.8075117370892,\n",
              " 42.91121495327103,\n",
              " 42.730232558139534,\n",
              " 42.7962962962963,\n",
              " 42.62672811059908,\n",
              " 42.77981651376147,\n",
              " 42.757990867579906,\n",
              " 42.74090909090909,\n",
              " 42.56561085972851,\n",
              " 42.450450450450454,\n",
              " 42.27354260089686,\n",
              " 42.15625,\n",
              " 42.15555555555556,\n",
              " 41.98672566371681,\n",
              " 42.05726872246696,\n",
              " 42.19298245614035,\n",
              " 42.248908296943235,\n",
              " 42.2,\n",
              " 42.24242424242424,\n",
              " 42.12068965517241,\n",
              " 42.347639484978544,\n",
              " 42.20940170940171,\n",
              " 42.14042553191489,\n",
              " 42.03389830508475,\n",
              " 41.9915611814346,\n",
              " 42.03781512605042,\n",
              " 42.53138075313807,\n",
              " 42.475,\n",
              " 42.42323651452282,\n",
              " 42.59504132231405,\n",
              " 42.53086419753087,\n",
              " 42.49590163934426,\n",
              " 42.60408163265306,\n",
              " 42.49186991869919,\n",
              " 42.441295546558706,\n",
              " 42.29032258064516,\n",
              " 42.28112449799197,\n",
              " 42.136,\n",
              " 42.51394422310757,\n",
              " 42.742063492063494,\n",
              " 42.80632411067194,\n",
              " 42.960629921259844,\n",
              " 42.79607843137255,\n",
              " 42.640625,\n",
              " 42.4863813229572,\n",
              " 42.32945736434109,\n",
              " 42.48262548262548,\n",
              " 42.511538461538464,\n",
              " 42.371647509578544,\n",
              " 43.912213740458014,\n",
              " 43.80608365019011,\n",
              " 43.765151515151516,\n",
              " 43.80377358490566,\n",
              " 43.78195488721804,\n",
              " 43.70786516853933,\n",
              " 43.71641791044776,\n",
              " 43.639405204460964,\n",
              " 43.596296296296295,\n",
              " 43.96678966789668,\n",
              " 44.05882352941177,\n",
              " 43.937728937728934,\n",
              " 43.86861313868613,\n",
              " 43.81454545454545,\n",
              " 43.67028985507246,\n",
              " 43.96028880866426,\n",
              " 44.068345323741006,\n",
              " 43.99641577060932,\n",
              " 44.05357142857143,\n",
              " 44.08896797153025,\n",
              " 44.308510638297875,\n",
              " 44.35335689045937,\n",
              " 44.38732394366197,\n",
              " 44.242105263157896,\n",
              " 44.09090909090909,\n",
              " 44.034843205574916,\n",
              " 43.986111111111114,\n",
              " 44.01384083044983,\n",
              " 44.12068965517241,\n",
              " 44.21993127147766,\n",
              " 44.10958904109589,\n",
              " 44.10921501706485,\n",
              " 44.01360544217687,\n",
              " 43.87118644067797,\n",
              " 43.88175675675676,\n",
              " 43.99326599326599,\n",
              " 45.29530201342282,\n",
              " 45.19063545150502,\n",
              " 45.156666666666666,\n",
              " 45.04983388704319,\n",
              " 45.28145695364238,\n",
              " 45.165016501650165,\n",
              " 45.61513157894737,\n",
              " 45.58360655737705,\n",
              " 45.43790849673203,\n",
              " 45.37785016286645,\n",
              " 45.47402597402598,\n",
              " 45.66019417475728,\n",
              " 45.60967741935484,\n",
              " 45.569131832797424,\n",
              " 45.51923076923077,\n",
              " 45.6038338658147,\n",
              " 45.52547770700637,\n",
              " 45.86984126984127,\n",
              " 45.83860759493671,\n",
              " 45.77287066246057,\n",
              " 45.65408805031446,\n",
              " 45.6833855799373,\n",
              " 45.65625,\n",
              " 45.532710280373834,\n",
              " 45.41925465838509,\n",
              " 45.328173374613,\n",
              " 45.39506172839506,\n",
              " 46.00615384615384,\n",
              " 45.93558282208589,\n",
              " 46.18042813455658,\n",
              " 46.28963414634146,\n",
              " 46.35258358662614,\n",
              " 46.39393939393939,\n",
              " 46.259818731117825,\n",
              " 46.123493975903614,\n",
              " 46.01801801801802,\n",
              " 46.02095808383233,\n",
              " 45.940298507462686,\n",
              " 45.8125,\n",
              " 45.74777448071217,\n",
              " 45.74260355029586,\n",
              " 45.63716814159292,\n",
              " 45.523529411764706,\n",
              " 45.41935483870968,\n",
              " 45.514619883040936,\n",
              " 45.542274052478135,\n",
              " 45.424418604651166,\n",
              " 45.402898550724636,\n",
              " 45.309248554913296,\n",
              " 45.242074927953894,\n",
              " 45.14942528735632,\n",
              " 45.19484240687679,\n",
              " 45.23714285714286,\n",
              " 45.13390313390313,\n",
              " 45.06534090909091,\n",
              " 45.10481586402266,\n",
              " 45.06497175141243,\n",
              " 45.07887323943662,\n",
              " 45.14887640449438,\n",
              " 45.20168067226891,\n",
              " 45.38826815642458,\n",
              " 45.28133704735376,\n",
              " 45.43055555555556,\n",
              " 45.445983379501385,\n",
              " 46.24585635359116,\n",
              " 46.31129476584022,\n",
              " 46.5,\n",
              " 46.52054794520548,\n",
              " 46.42896174863388,\n",
              " 46.30790190735695,\n",
              " 46.29891304347826,\n",
              " 46.24661246612466,\n",
              " 46.2,\n",
              " 46.12398921832884,\n",
              " 46.043010752688176,\n",
              " 46.06970509383378,\n",
              " 46.106951871657756,\n",
              " 46.38133333333333,\n",
              " 46.68617021276596,\n",
              " 46.62068965517241,\n",
              " 46.526455026455025,\n",
              " 46.45118733509235,\n",
              " 46.37894736842105,\n",
              " 46.30183727034121,\n",
              " 46.2434554973822,\n",
              " 46.38381201044386,\n",
              " 46.625,\n",
              " 46.57142857142857,\n",
              " 46.66839378238342,\n",
              " 46.82428940568475,\n",
              " 47.22938144329897,\n",
              " 47.840616966580974,\n",
              " 47.764102564102565,\n",
              " 47.751918158567776,\n",
              " 47.63520408163265,\n",
              " 47.54452926208651,\n",
              " 47.71065989847716,\n",
              " 47.61518987341772,\n",
              " 47.5,\n",
              " 47.576826196473554,\n",
              " 47.685929648241206,\n",
              " 47.709273182957396,\n",
              " 47.6,\n",
              " 47.49376558603491,\n",
              " 47.5,\n",
              " 47.59057071960298,\n",
              " 47.79950495049505,\n",
              " 47.79259259259259,\n",
              " 47.830049261083744,\n",
              " 47.78624078624079,\n",
              " 47.73774509803921,\n",
              " 47.66992665036675,\n",
              " 47.985365853658536,\n",
              " 47.95863746958638,\n",
              " 48.14563106796116,\n",
              " 48.24455205811138,\n",
              " 48.15700483091788,\n",
              " 48.35180722891566,\n",
              " 48.29086538461539,\n",
              " 48.378896882494004,\n",
              " 48.29665071770335,\n",
              " 48.19331742243437,\n",
              " 48.18333333333333,\n",
              " 48.10688836104513,\n",
              " 48.04739336492891,\n",
              " 48.08510638297872,\n",
              " 47.990566037735846,\n",
              " 47.95764705882353,\n",
              " 47.960093896713616,\n",
              " 47.89227166276346,\n",
              " 47.87149532710281,\n",
              " 48.158508158508155,\n",
              " 48.15813953488372,\n",
              " 48.05104408352668,\n",
              " 47.967592592592595,\n",
              " 47.93764434180139,\n",
              " 47.866359447004605,\n",
              " 47.795402298850576,\n",
              " 47.7545871559633,\n",
              " 48.10297482837529,\n",
              " 48.045662100456624,\n",
              " 47.95216400911162,\n",
              " 47.98409090909091,\n",
              " 47.95918367346939,\n",
              " 47.98190045248869,\n",
              " 48.75620767494357,\n",
              " 48.734234234234236,\n",
              " 48.69438202247191,\n",
              " 48.70403587443946,\n",
              " 48.619686800894854,\n",
              " 48.59375,\n",
              " 48.510022271714924,\n",
              " 48.54,\n",
              " 48.55875831485588,\n",
              " 48.60398230088496,\n",
              " 48.501103752759384,\n",
              " 48.52643171806167,\n",
              " 48.5010989010989,\n",
              " 48.396929824561404,\n",
              " 48.29978118161926,\n",
              " 48.24017467248908,\n",
              " 48.21132897603486,\n",
              " 48.254347826086956,\n",
              " 48.35791757049891,\n",
              " 49.40909090909091,\n",
              " 49.360691144708426,\n",
              " 49.355603448275865,\n",
              " 50.14408602150537,\n",
              " 50.18454935622318,\n",
              " 50.13704496788009,\n",
              " 50.10042735042735,\n",
              " 50.09808102345416,\n",
              " 50.02127659574468,\n",
              " 49.94904458598726,\n",
              " 49.896186440677965,\n",
              " 50.035940803382665,\n",
              " 51.175105485232066,\n",
              " 51.09894736842105,\n",
              " 51.016806722689076,\n",
              " 50.9475890985325,\n",
              " 50.91841004184101,\n",
              " 51.67849686847599,\n",
              " 51.60625,\n",
              " 52.05197505197505,\n",
              " 52.02074688796681,\n",
              " 52.25672877846791,\n",
              " 52.268595041322314,\n",
              " 52.414432989690724,\n",
              " 52.49382716049383,\n",
              " 52.41889117043121,\n",
              " 52.407786885245905,\n",
              " 52.736196319018404,\n",
              " 52.83061224489796,\n",
              " 52.80040733197556,\n",
              " 52.792682926829265,\n",
              " 52.72819472616633,\n",
              " 52.663967611336034,\n",
              " 52.6949494949495,\n",
              " 52.641129032258064,\n",
              " 52.57545271629779,\n",
              " 52.61646586345382,\n",
              " 52.55511022044088,\n",
              " 52.674,\n",
              " 52.63273453093812,\n",
              " 52.679282868525895,\n",
              " 52.74353876739563,\n",
              " 52.68452380952381,\n",
              " 52.5960396039604,\n",
              " 52.5395256916996,\n",
              " 52.467455621301774,\n",
              " 52.53740157480315,\n",
              " 52.481335952848724,\n",
              " 52.86862745098039,\n",
              " 52.83170254403131,\n",
              " 52.798828125,\n",
              " 52.734892787524366,\n",
              " 52.688715953307394,\n",
              " 52.86407766990291,\n",
              " 52.76744186046512,\n",
              " 52.7137330754352,\n",
              " 52.762548262548265,\n",
              " 52.77071290944124,\n",
              " 52.74807692307692,\n",
              " 52.6641074856046,\n",
              " 52.57471264367816,\n",
              " 52.48183556405354,\n",
              " 52.56870229007634,\n",
              " 52.68,\n",
              " 52.93536121673004,\n",
              " 53.442125237191654,\n",
              " 53.88636363636363,\n",
              " 53.801512287334596,\n",
              " 53.75094339622642,\n",
              " 53.666666666666664,\n",
              " 54.1484962406015,\n",
              " 54.25140712945591,\n",
              " 54.20037453183521,\n",
              " 54.17383177570093,\n",
              " 54.757462686567166,\n",
              " 54.81378026070764,\n",
              " 55.63197026022305,\n",
              " 55.534322820037104,\n",
              " 55.574074074074076,\n",
              " 55.48059149722736,\n",
              " 55.49077490774908,\n",
              " 55.42173112338858,\n",
              " 55.375,\n",
              " 55.28256880733945,\n",
              " 55.472527472527474,\n",
              " 55.39488117001828,\n",
              " 55.33576642335766,\n",
              " 55.31693989071038,\n",
              " 55.22909090909091,\n",
              " 55.33756805807622,\n",
              " 55.552536231884055,\n",
              " 55.70343580470163,\n",
              " 55.895306859205775,\n",
              " 55.828828828828826,\n",
              " 55.78237410071942,\n",
              " 56.11310592459605,\n",
              " 56.134408602150536,\n",
              " 56.039355992844364,\n",
              " 56.00892857142857,\n",
              " 55.9554367201426,\n",
              " 56.087188612099645,\n",
              " 56.08703374777975,\n",
              " 55.98936170212766,\n",
              " 55.971681415929204,\n",
              " 56.10600706713781,\n",
              " 56.051146384479715,\n",
              " 55.95950704225352,\n",
              " 55.876977152899826,\n",
              " 55.96842105263158,\n",
              " 55.893169877408056,\n",
              " 55.86538461538461,\n",
              " 56.06631762652705,\n",
              " 55.97038327526133,\n",
              " 55.91304347826087,\n",
              " 56.25,\n",
              " 56.197573656845755,\n",
              " 56.102076124567475,\n",
              " 56.04317789291883,\n",
              " 56.015517241379314,\n",
              " 56.08261617900172,\n",
              " 56.03092783505155,\n",
              " 55.98970840480274,\n",
              " 56.00856164383562,\n",
              " 55.965811965811966,\n",
              " 56.36006825938566,\n",
              " 56.58603066439523,\n",
              " 56.73639455782313,\n",
              " 56.68251273344652,\n",
              " 56.6,\n",
              " 56.61082910321489,\n",
              " 56.54054054054054,\n",
              " 56.45699831365936,\n",
              " 56.84680134680135,\n",
              " 56.76302521008403,\n",
              " 56.758389261744966,\n",
              " 57.63819095477387,\n",
              " 57.74916387959866,\n",
              " 57.68113522537563,\n",
              " 57.6,\n",
              " 57.998336106489184,\n",
              " 57.90863787375415,\n",
              " 57.817578772802655,\n",
              " 57.96854304635762,\n",
              " 57.87438016528925,\n",
              " 57.79372937293729,\n",
              " 57.766062602965405,\n",
              " 57.68092105263158,\n",
              " 57.69458128078818,\n",
              " 57.691803278688525,\n",
              " 57.765957446808514,\n",
              " 57.70424836601307,\n",
              " 57.7373572593801,\n",
              " 57.68078175895766,\n",
              " 57.72357723577236,\n",
              " 57.69805194805195,\n",
              " 57.71961102106969,\n",
              " 57.63430420711974,\n",
              " 57.55896607431341,\n",
              " 57.483870967741936,\n",
              " 57.45410628019324,\n",
              " 57.70578778135048,\n",
              " 57.91653290529695,\n",
              " 57.88621794871795,\n",
              " 58.6512,\n",
              " 58.698083067092654,\n",
              " 60.95534290271132,\n",
              " 61.40605095541401,\n",
              " 61.33704292527822,\n",
              " 61.24603174603175,\n",
              " 61.158478605388275,\n",
              " 61.153481012658226,\n",
              " 61.069510268562404,\n",
              " 61.08359621451104,\n",
              " 61.031496062992126,\n",
              " 61.033018867924525,\n",
              " 61.043956043956044,\n",
              " 61.18181818181818,\n",
              " 61.4773082942097,\n",
              " 61.86875,\n",
              " 61.898595943837755,\n",
              " 61.95794392523364,\n",
              " 61.87247278382581,\n",
              " 61.827639751552795]"
            ]
          },
          "metadata": {},
          "execution_count": 182
        }
      ]
    },
    {
      "cell_type": "code",
      "source": [
        "#Gráfico considerando a média da pontuação [de 0:inclusão de novas observações]\n",
        "\n",
        "medias = list()\n",
        "for i in range(1, len(netflix.viewership_score)):\n",
        "    medias.append(netflix.viewership_score[0:i].mean())\n",
        "plt.plot(medias)"
      ],
      "metadata": {
        "colab": {
          "base_uri": "https://localhost:8080/",
          "height": 282
        },
        "id": "By4SAhPRam9C",
        "outputId": "5613c08a-488d-48a8-8a5f-d596cce85ddb"
      },
      "execution_count": 183,
      "outputs": [
        {
          "output_type": "execute_result",
          "data": {
            "text/plain": [
              "[<matplotlib.lines.Line2D at 0x7f50bdce6250>]"
            ]
          },
          "metadata": {},
          "execution_count": 183
        },
        {
          "output_type": "display_data",
          "data": {
            "text/plain": [
              "<Figure size 432x288 with 1 Axes>"
            ],
            "image/png": "[encoded data removed]"
          },
          "metadata": {
            "needs_background": "light"
          }
        }
      ]
    },
    {
      "cell_type": "code",
      "source": [
        "#Gráfico considerando a média da pontuação [de 0:inclusão de novas observações] puxando aleatoriamente os valores\n",
        "np.random.seed(75243)\n",
        "temp = netflix.viewership_score.sample(frac=1)\n",
        "\n",
        "medias = list()\n",
        "medias = [temp[0:i].mean() for i in range(1, len(temp))]\n",
        "\n",
        "plt.plot(medias)"
      ],
      "metadata": {
        "colab": {
          "base_uri": "https://localhost:8080/",
          "height": 282
        },
        "id": "Z4TgpAX3anKo",
        "outputId": "f46793dd-93c7-407a-fc96-0dc5cd113554"
      },
      "execution_count": 184,
      "outputs": [
        {
          "output_type": "execute_result",
          "data": {
            "text/plain": [
              "[<matplotlib.lines.Line2D at 0x7f50bdc56a90>]"
            ]
          },
          "metadata": {},
          "execution_count": 184
        },
        {
          "output_type": "display_data",
          "data": {
            "text/plain": [
              "<Figure size 432x288 with 1 Axes>"
            ],
            "image/png": "[encoded data removed]"
          },
          "metadata": {
            "needs_background": "light"
          }
        }
      ]
    },
    {
      "cell_type": "code",
      "source": [
        "#intervalo de confiança para os valores da pontuação, considerando uma amostra grande\n",
        "print(len(netflix))\n",
        "zconfint(netflix.viewership_score)"
      ],
      "metadata": {
        "colab": {
          "base_uri": "https://localhost:8080/"
        },
        "id": "tcx6WcmtdBMG",
        "outputId": "f6c26836-7d8b-4cea-f3c3-eb658fa2ee4b"
      },
      "execution_count": 185,
      "outputs": [
        {
          "output_type": "stream",
          "name": "stdout",
          "text": [
            "645\n"
          ]
        },
        {
          "output_type": "execute_result",
          "data": {
            "text/plain": [
              "(54.20696386220926, 69.29381133158918)"
            ]
          },
          "metadata": {},
          "execution_count": 185
        }
      ]
    },
    {
      "cell_type": "markdown",
      "source": [
        "#**Vamos focar em analisar dois tipos agora:** \n",
        "##### 1 - TV Show (Séries)\n",
        "##### 2 - Movie (Filmes)"
      ],
      "metadata": {
        "id": "7E-gqUp7ejnp"
      }
    },
    {
      "cell_type": "code",
      "source": [
        "pontuacao_tv_show = netflix.query('type == \"TV Show\"')\n",
        "pontuacao_movie = netflix.query('type == \"Movie\"')"
      ],
      "metadata": {
        "id": "Wfj8NOMzd7pb"
      },
      "execution_count": 186,
      "outputs": []
    },
    {
      "cell_type": "code",
      "source": [
        "pontuacao_tv_show.head()"
      ],
      "metadata": {
        "colab": {
          "base_uri": "https://localhost:8080/",
          "height": 250
        },
        "id": "k61IIbQsd8Ik",
        "outputId": "4ce480bb-12c3-4e38-f506-e4f9cee63b0d"
      },
      "execution_count": 187,
      "outputs": [
        {
          "output_type": "execute_result",
          "data": {
            "text/plain": [
              "         as_of  rank year_to_date last_week_rank                        title  \\\n",
              "3   2020-04-02    10            6              -  Car Masters: Rust to Riches   \n",
              "7   2020-04-05    10            9              -                   Unorthodox   \n",
              "9   2020-04-07     9            7              -    How to Fix a Drug Scandal   \n",
              "12  2020-04-12    10            -              -                    Community   \n",
              "13  2020-04-14    10            -             10                     Legacies   \n",
              "\n",
              "       type netflix_exclusive netflix_release_date  days_in_top_10  \\\n",
              "3   TV Show               Yes         Sep 14, 2018               5   \n",
              "7   TV Show               Yes         Mar 26, 2020               6   \n",
              "9   TV Show               Yes          Apr 1, 2020               6   \n",
              "12  TV Show               Not          Apr 1, 2020               2   \n",
              "13  TV Show               Not          Apr 5, 2019               7   \n",
              "\n",
              "    viewership_score  \n",
              "3                 15  \n",
              "7                 15  \n",
              "9                 29  \n",
              "12                 2  \n",
              "13                15  "
            ],
            "text/html": [
              "\n",
              "  <div id=\"df-fe0593c5-bb37-4f2f-b452-ac2599f0a999\">\n",
              "    <div class=\"colab-df-container\">\n",
              "      <div>\n",
              "<style scoped>\n",
              "    .dataframe tbody tr th:only-of-type {\n",
              "        vertical-align: middle;\n",
              "    }\n",
              "\n",
              "    .dataframe tbody tr th {\n",
              "        vertical-align: top;\n",
              "    }\n",
              "\n",
              "    .dataframe thead th {\n",
              "        text-align: right;\n",
              "    }\n",
              "</style>\n",
              "<table border=\"1\" class=\"dataframe\">\n",
              "  <thead>\n",
              "    <tr style=\"text-align: right;\">\n",
              "      <th></th>\n",
              "      <th>as_of</th>\n",
              "      <th>rank</th>\n",
              "      <th>year_to_date</th>\n",
              "      <th>last_week_rank</th>\n",
              "      <th>title</th>\n",
              "      <th>type</th>\n",
              "      <th>netflix_exclusive</th>\n",
              "      <th>netflix_release_date</th>\n",
              "      <th>days_in_top_10</th>\n",
              "      <th>viewership_score</th>\n",
              "    </tr>\n",
              "  </thead>\n",
              "  <tbody>\n",
              "    <tr>\n",
              "      <th>3</th>\n",
              "      <td>2020-04-02</td>\n",
              "      <td>10</td>\n",
              "      <td>6</td>\n",
              "      <td>-</td>\n",
              "      <td>Car Masters: Rust to Riches</td>\n",
              "      <td>TV Show</td>\n",
              "      <td>Yes</td>\n",
              "      <td>Sep 14, 2018</td>\n",
              "      <td>5</td>\n",
              "      <td>15</td>\n",
              "    </tr>\n",
              "    <tr>\n",
              "      <th>7</th>\n",
              "      <td>2020-04-05</td>\n",
              "      <td>10</td>\n",
              "      <td>9</td>\n",
              "      <td>-</td>\n",
              "      <td>Unorthodox</td>\n",
              "      <td>TV Show</td>\n",
              "      <td>Yes</td>\n",
              "      <td>Mar 26, 2020</td>\n",
              "      <td>6</td>\n",
              "      <td>15</td>\n",
              "    </tr>\n",
              "    <tr>\n",
              "      <th>9</th>\n",
              "      <td>2020-04-07</td>\n",
              "      <td>9</td>\n",
              "      <td>7</td>\n",
              "      <td>-</td>\n",
              "      <td>How to Fix a Drug Scandal</td>\n",
              "      <td>TV Show</td>\n",
              "      <td>Yes</td>\n",
              "      <td>Apr 1, 2020</td>\n",
              "      <td>6</td>\n",
              "      <td>29</td>\n",
              "    </tr>\n",
              "    <tr>\n",
              "      <th>12</th>\n",
              "      <td>2020-04-12</td>\n",
              "      <td>10</td>\n",
              "      <td>-</td>\n",
              "      <td>-</td>\n",
              "      <td>Community</td>\n",
              "      <td>TV Show</td>\n",
              "      <td>Not</td>\n",
              "      <td>Apr 1, 2020</td>\n",
              "      <td>2</td>\n",
              "      <td>2</td>\n",
              "    </tr>\n",
              "    <tr>\n",
              "      <th>13</th>\n",
              "      <td>2020-04-14</td>\n",
              "      <td>10</td>\n",
              "      <td>-</td>\n",
              "      <td>10</td>\n",
              "      <td>Legacies</td>\n",
              "      <td>TV Show</td>\n",
              "      <td>Not</td>\n",
              "      <td>Apr 5, 2019</td>\n",
              "      <td>7</td>\n",
              "      <td>15</td>\n",
              "    </tr>\n",
              "  </tbody>\n",
              "</table>\n",
              "</div>\n",
              "      <button class=\"colab-df-convert\" onclick=\"convertToInteractive('df-fe0593c5-bb37-4f2f-b452-ac2599f0a999')\"\n",
              "              title=\"Convert this dataframe to an interactive table.\"\n",
              "              style=\"display:none;\">\n",
              "        \n",
              "  <svg xmlns=\"http://www.w3.org/2000/svg\" height=\"24px\"viewBox=\"0 0 24 24\"\n",
              "       width=\"24px\">\n",
              "    <path d=\"M0 0h24v24H0V0z\" fill=\"none\"/>\n",
              "    <path d=\"M18.56 5.44l.94 2.06.94-2.06 2.06-.94-2.06-.94-.94-2.06-.94 2.06-2.06.94zm-11 1L8.5 8.5l.94-2.06 2.06-.94-2.06-.94L8.5 2.5l-.94 2.06-2.06.94zm10 10l.94 2.06.94-2.06 2.06-.94-2.06-.94-.94-2.06-.94 2.06-2.06.94z\"/><path d=\"M17.41 7.96l-1.37-1.37c-.4-.4-.92-.59-1.43-.59-.52 0-1.04.2-1.43.59L10.3 9.45l-7.72 7.72c-.78.78-.78 2.05 0 2.83L4 21.41c.39.39.9.59 1.41.59.51 0 1.02-.2 1.41-.59l7.78-7.78 2.81-2.81c.8-.78.8-2.07 0-2.86zM5.41 20L4 18.59l7.72-7.72 1.47 1.35L5.41 20z\"/>\n",
              "  </svg>\n",
              "      </button>\n",
              "      \n",
              "  <style>\n",
              "    .colab-df-container {\n",
              "      display:flex;\n",
              "      flex-wrap:wrap;\n",
              "      gap: 12px;\n",
              "    }\n",
              "\n",
              "    .colab-df-convert {\n",
              "      background-color: #E8F0FE;\n",
              "      border: none;\n",
              "      border-radius: 50%;\n",
              "      cursor: pointer;\n",
              "      display: none;\n",
              "      fill: #1967D2;\n",
              "      height: 32px;\n",
              "      padding: 0 0 0 0;\n",
              "      width: 32px;\n",
              "    }\n",
              "\n",
              "    .colab-df-convert:hover {\n",
              "      background-color: #E2EBFA;\n",
              "      box-shadow: 0px 1px 2px rgba(60, 64, 67, 0.3), 0px 1px 3px 1px rgba(60, 64, 67, 0.15);\n",
              "      fill: #174EA6;\n",
              "    }\n",
              "\n",
              "    [theme=dark] .colab-df-convert {\n",
              "      background-color: #3B4455;\n",
              "      fill: #D2E3FC;\n",
              "    }\n",
              "\n",
              "    [theme=dark] .colab-df-convert:hover {\n",
              "      background-color: #434B5C;\n",
              "      box-shadow: 0px 1px 3px 1px rgba(0, 0, 0, 0.15);\n",
              "      filter: drop-shadow(0px 1px 2px rgba(0, 0, 0, 0.3));\n",
              "      fill: #FFFFFF;\n",
              "    }\n",
              "  </style>\n",
              "\n",
              "      <script>\n",
              "        const buttonEl =\n",
              "          document.querySelector('#df-fe0593c5-bb37-4f2f-b452-ac2599f0a999 button.colab-df-convert');\n",
              "        buttonEl.style.display =\n",
              "          google.colab.kernel.accessAllowed ? 'block' : 'none';\n",
              "\n",
              "        async function convertToInteractive(key) {\n",
              "          const element = document.querySelector('#df-fe0593c5-bb37-4f2f-b452-ac2599f0a999');\n",
              "          const dataTable =\n",
              "            await google.colab.kernel.invokeFunction('convertToInteractive',\n",
              "                                                     [key], {});\n",
              "          if (!dataTable) return;\n",
              "\n",
              "          const docLinkHtml = 'Like what you see? Visit the ' +\n",
              "            '<a target=\"_blank\" href=https://colab.research.google.com/notebooks/data_table.ipynb>data table notebook</a>'\n",
              "            + ' to learn more about interactive tables.';\n",
              "          element.innerHTML = '';\n",
              "          dataTable['output_type'] = 'display_data';\n",
              "          await google.colab.output.renderOutput(dataTable, element);\n",
              "          const docLink = document.createElement('div');\n",
              "          docLink.innerHTML = docLinkHtml;\n",
              "          element.appendChild(docLink);\n",
              "        }\n",
              "      </script>\n",
              "    </div>\n",
              "  </div>\n",
              "  "
            ]
          },
          "metadata": {},
          "execution_count": 187
        }
      ]
    },
    {
      "cell_type": "code",
      "source": [
        "ax = sns.distplot(pontuacao_tv_show.viewership_score)\n",
        "ax.set(xlabel='Pontuação de audiência para as séries', ylabel='Densidade')\n",
        "ax.set_title('Pontuação de audiência para as séries')"
      ],
      "metadata": {
        "colab": {
          "base_uri": "https://localhost:8080/",
          "height": 313
        },
        "id": "r0RRwpT8eMLS",
        "outputId": "caf3c08f-329d-4431-c005-c515b2d5fba1"
      },
      "execution_count": 188,
      "outputs": [
        {
          "output_type": "execute_result",
          "data": {
            "text/plain": [
              "Text(0.5, 1.0, 'Pontuação de audiência para as séries')"
            ]
          },
          "metadata": {},
          "execution_count": 188
        },
        {
          "output_type": "display_data",
          "data": {
            "text/plain": [
              "<Figure size 432x288 with 1 Axes>"
            ],
            "image/png": "[encoded data removed]"
          },
          "metadata": {
            "needs_background": "light"
          }
        }
      ]
    },
    {
      "cell_type": "code",
      "source": [
        "ax = sns.boxplot(pontuacao_tv_show.viewership_score)\n",
        "ax.set(xlabel='Pontuação de audiência')\n",
        "ax.set_title('Pontuação de audiência para as séries')"
      ],
      "metadata": {
        "colab": {
          "base_uri": "https://localhost:8080/",
          "height": 313
        },
        "id": "_0qUeQyVeMxP",
        "outputId": "9f430b9b-3efe-4fb6-8907-95b1a4ae3402"
      },
      "execution_count": 189,
      "outputs": [
        {
          "output_type": "execute_result",
          "data": {
            "text/plain": [
              "Text(0.5, 1.0, 'Pontuação de audiência para as séries')"
            ]
          },
          "metadata": {},
          "execution_count": 189
        },
        {
          "output_type": "display_data",
          "data": {
            "text/plain": [
              "<Figure size 432x288 with 1 Axes>"
            ],
            "image/png": "[encoded data removed]"
          },
          "metadata": {
            "needs_background": "light"
          }
        }
      ]
    },
    {
      "cell_type": "code",
      "source": [
        "#intervalo de confiança para as séries\n",
        "zconfint(pontuacao_tv_show.viewership_score)"
      ],
      "metadata": {
        "colab": {
          "base_uri": "https://localhost:8080/"
        },
        "id": "J4PPGCAoeRVx",
        "outputId": "3c6e0306-b396-4542-8e18-e6ccf0b76a15"
      },
      "execution_count": 190,
      "outputs": [
        {
          "output_type": "execute_result",
          "data": {
            "text/plain": [
              "(74.38259997547424, 106.24637528954342)"
            ]
          },
          "metadata": {},
          "execution_count": 190
        }
      ]
    },
    {
      "cell_type": "code",
      "source": [
        "pontuacao_movie.head()"
      ],
      "metadata": {
        "colab": {
          "base_uri": "https://localhost:8080/",
          "height": 206
        },
        "id": "Z67thyyWdwTN",
        "outputId": "8975c199-efc3-40e4-c6cd-7829231c8f8e"
      },
      "execution_count": 191,
      "outputs": [
        {
          "output_type": "execute_result",
          "data": {
            "text/plain": [
              "        as_of  rank year_to_date last_week_rank         title   type  \\\n",
              "0  2020-04-01     9            8              -       Badland  Movie   \n",
              "1  2020-04-01    10            9              -      Uncorked  Movie   \n",
              "2  2020-04-02     9            5              4  The Platform  Movie   \n",
              "4  2020-04-03     9            -              -          Salt  Movie   \n",
              "5  2020-04-03    10            6              -  Blood Father  Movie   \n",
              "\n",
              "  netflix_exclusive netflix_release_date  days_in_top_10  viewership_score  \n",
              "0               Not         Mar 26, 2020               4                11  \n",
              "1               Yes         Mar 27, 2020               4                15  \n",
              "2               Yes         Mar 20, 2020              10                57  \n",
              "4               Not          Apr 1, 2020               1                 2  \n",
              "5               Not         Mar 26, 2020               7                36  "
            ],
            "text/html": [
              "\n",
              "  <div id=\"df-0d161e7d-3faa-4045-8ce3-27d6ad994c3e\">\n",
              "    <div class=\"colab-df-container\">\n",
              "      <div>\n",
              "<style scoped>\n",
              "    .dataframe tbody tr th:only-of-type {\n",
              "        vertical-align: middle;\n",
              "    }\n",
              "\n",
              "    .dataframe tbody tr th {\n",
              "        vertical-align: top;\n",
              "    }\n",
              "\n",
              "    .dataframe thead th {\n",
              "        text-align: right;\n",
              "    }\n",
              "</style>\n",
              "<table border=\"1\" class=\"dataframe\">\n",
              "  <thead>\n",
              "    <tr style=\"text-align: right;\">\n",
              "      <th></th>\n",
              "      <th>as_of</th>\n",
              "      <th>rank</th>\n",
              "      <th>year_to_date</th>\n",
              "      <th>last_week_rank</th>\n",
              "      <th>title</th>\n",
              "      <th>type</th>\n",
              "      <th>netflix_exclusive</th>\n",
              "      <th>netflix_release_date</th>\n",
              "      <th>days_in_top_10</th>\n",
              "      <th>viewership_score</th>\n",
              "    </tr>\n",
              "  </thead>\n",
              "  <tbody>\n",
              "    <tr>\n",
              "      <th>0</th>\n",
              "      <td>2020-04-01</td>\n",
              "      <td>9</td>\n",
              "      <td>8</td>\n",
              "      <td>-</td>\n",
              "      <td>Badland</td>\n",
              "      <td>Movie</td>\n",
              "      <td>Not</td>\n",
              "      <td>Mar 26, 2020</td>\n",
              "      <td>4</td>\n",
              "      <td>11</td>\n",
              "    </tr>\n",
              "    <tr>\n",
              "      <th>1</th>\n",
              "      <td>2020-04-01</td>\n",
              "      <td>10</td>\n",
              "      <td>9</td>\n",
              "      <td>-</td>\n",
              "      <td>Uncorked</td>\n",
              "      <td>Movie</td>\n",
              "      <td>Yes</td>\n",
              "      <td>Mar 27, 2020</td>\n",
              "      <td>4</td>\n",
              "      <td>15</td>\n",
              "    </tr>\n",
              "    <tr>\n",
              "      <th>2</th>\n",
              "      <td>2020-04-02</td>\n",
              "      <td>9</td>\n",
              "      <td>5</td>\n",
              "      <td>4</td>\n",
              "      <td>The Platform</td>\n",
              "      <td>Movie</td>\n",
              "      <td>Yes</td>\n",
              "      <td>Mar 20, 2020</td>\n",
              "      <td>10</td>\n",
              "      <td>57</td>\n",
              "    </tr>\n",
              "    <tr>\n",
              "      <th>4</th>\n",
              "      <td>2020-04-03</td>\n",
              "      <td>9</td>\n",
              "      <td>-</td>\n",
              "      <td>-</td>\n",
              "      <td>Salt</td>\n",
              "      <td>Movie</td>\n",
              "      <td>Not</td>\n",
              "      <td>Apr 1, 2020</td>\n",
              "      <td>1</td>\n",
              "      <td>2</td>\n",
              "    </tr>\n",
              "    <tr>\n",
              "      <th>5</th>\n",
              "      <td>2020-04-03</td>\n",
              "      <td>10</td>\n",
              "      <td>6</td>\n",
              "      <td>-</td>\n",
              "      <td>Blood Father</td>\n",
              "      <td>Movie</td>\n",
              "      <td>Not</td>\n",
              "      <td>Mar 26, 2020</td>\n",
              "      <td>7</td>\n",
              "      <td>36</td>\n",
              "    </tr>\n",
              "  </tbody>\n",
              "</table>\n",
              "</div>\n",
              "      <button class=\"colab-df-convert\" onclick=\"convertToInteractive('df-0d161e7d-3faa-4045-8ce3-27d6ad994c3e')\"\n",
              "              title=\"Convert this dataframe to an interactive table.\"\n",
              "              style=\"display:none;\">\n",
              "        \n",
              "  <svg xmlns=\"http://www.w3.org/2000/svg\" height=\"24px\"viewBox=\"0 0 24 24\"\n",
              "       width=\"24px\">\n",
              "    <path d=\"M0 0h24v24H0V0z\" fill=\"none\"/>\n",
              "    <path d=\"M18.56 5.44l.94 2.06.94-2.06 2.06-.94-2.06-.94-.94-2.06-.94 2.06-2.06.94zm-11 1L8.5 8.5l.94-2.06 2.06-.94-2.06-.94L8.5 2.5l-.94 2.06-2.06.94zm10 10l.94 2.06.94-2.06 2.06-.94-2.06-.94-.94-2.06-.94 2.06-2.06.94z\"/><path d=\"M17.41 7.96l-1.37-1.37c-.4-.4-.92-.59-1.43-.59-.52 0-1.04.2-1.43.59L10.3 9.45l-7.72 7.72c-.78.78-.78 2.05 0 2.83L4 21.41c.39.39.9.59 1.41.59.51 0 1.02-.2 1.41-.59l7.78-7.78 2.81-2.81c.8-.78.8-2.07 0-2.86zM5.41 20L4 18.59l7.72-7.72 1.47 1.35L5.41 20z\"/>\n",
              "  </svg>\n",
              "      </button>\n",
              "      \n",
              "  <style>\n",
              "    .colab-df-container {\n",
              "      display:flex;\n",
              "      flex-wrap:wrap;\n",
              "      gap: 12px;\n",
              "    }\n",
              "\n",
              "    .colab-df-convert {\n",
              "      background-color: #E8F0FE;\n",
              "      border: none;\n",
              "      border-radius: 50%;\n",
              "      cursor: pointer;\n",
              "      display: none;\n",
              "      fill: #1967D2;\n",
              "      height: 32px;\n",
              "      padding: 0 0 0 0;\n",
              "      width: 32px;\n",
              "    }\n",
              "\n",
              "    .colab-df-convert:hover {\n",
              "      background-color: #E2EBFA;\n",
              "      box-shadow: 0px 1px 2px rgba(60, 64, 67, 0.3), 0px 1px 3px 1px rgba(60, 64, 67, 0.15);\n",
              "      fill: #174EA6;\n",
              "    }\n",
              "\n",
              "    [theme=dark] .colab-df-convert {\n",
              "      background-color: #3B4455;\n",
              "      fill: #D2E3FC;\n",
              "    }\n",
              "\n",
              "    [theme=dark] .colab-df-convert:hover {\n",
              "      background-color: #434B5C;\n",
              "      box-shadow: 0px 1px 3px 1px rgba(0, 0, 0, 0.15);\n",
              "      filter: drop-shadow(0px 1px 2px rgba(0, 0, 0, 0.3));\n",
              "      fill: #FFFFFF;\n",
              "    }\n",
              "  </style>\n",
              "\n",
              "      <script>\n",
              "        const buttonEl =\n",
              "          document.querySelector('#df-0d161e7d-3faa-4045-8ce3-27d6ad994c3e button.colab-df-convert');\n",
              "        buttonEl.style.display =\n",
              "          google.colab.kernel.accessAllowed ? 'block' : 'none';\n",
              "\n",
              "        async function convertToInteractive(key) {\n",
              "          const element = document.querySelector('#df-0d161e7d-3faa-4045-8ce3-27d6ad994c3e');\n",
              "          const dataTable =\n",
              "            await google.colab.kernel.invokeFunction('convertToInteractive',\n",
              "                                                     [key], {});\n",
              "          if (!dataTable) return;\n",
              "\n",
              "          const docLinkHtml = 'Like what you see? Visit the ' +\n",
              "            '<a target=\"_blank\" href=https://colab.research.google.com/notebooks/data_table.ipynb>data table notebook</a>'\n",
              "            + ' to learn more about interactive tables.';\n",
              "          element.innerHTML = '';\n",
              "          dataTable['output_type'] = 'display_data';\n",
              "          await google.colab.output.renderOutput(dataTable, element);\n",
              "          const docLink = document.createElement('div');\n",
              "          docLink.innerHTML = docLinkHtml;\n",
              "          element.appendChild(docLink);\n",
              "        }\n",
              "      </script>\n",
              "    </div>\n",
              "  </div>\n",
              "  "
            ]
          },
          "metadata": {},
          "execution_count": 191
        }
      ]
    },
    {
      "cell_type": "code",
      "source": [
        "ax = sns.distplot(pontuacao_movie.viewership_score)\n",
        "ax.set(xlabel='Pontuação de audiência para os filmes', ylabel='Densidade')\n",
        "ax.set_title('Pontuação de audiência para os filmes')"
      ],
      "metadata": {
        "colab": {
          "base_uri": "https://localhost:8080/",
          "height": 313
        },
        "id": "63Vmm2SSea6C",
        "outputId": "3fe286fb-8371-435c-c824-83dc2787851f"
      },
      "execution_count": 192,
      "outputs": [
        {
          "output_type": "execute_result",
          "data": {
            "text/plain": [
              "Text(0.5, 1.0, 'Pontuação de audiência para os filmes')"
            ]
          },
          "metadata": {},
          "execution_count": 192
        },
        {
          "output_type": "display_data",
          "data": {
            "text/plain": [
              "<Figure size 432x288 with 1 Axes>"
            ],
            "image/png": "[encoded data removed]"
          },
          "metadata": {
            "needs_background": "light"
          }
        }
      ]
    },
    {
      "cell_type": "code",
      "source": [
        "ax = sns.boxplot(pontuacao_tv_show.viewership_score)\n",
        "ax.set(xlabel='Pontuação de audiência')\n",
        "ax.set_title('Pontuação de audiência para os filmes')"
      ],
      "metadata": {
        "colab": {
          "base_uri": "https://localhost:8080/",
          "height": 313
        },
        "id": "70kgtAhAeWFI",
        "outputId": "13033877-8727-4e04-da50-d214da1e1bda"
      },
      "execution_count": 193,
      "outputs": [
        {
          "output_type": "execute_result",
          "data": {
            "text/plain": [
              "Text(0.5, 1.0, 'Pontuação de audiência para os filmes')"
            ]
          },
          "metadata": {},
          "execution_count": 193
        },
        {
          "output_type": "display_data",
          "data": {
            "text/plain": [
              "<Figure size 432x288 with 1 Axes>"
            ],
            "image/png": "[encoded data removed]"
          },
          "metadata": {
            "needs_background": "light"
          }
        }
      ]
    },
    {
      "cell_type": "code",
      "source": [
        "#intervalo de confiança para as séries\n",
        "zconfint(pontuacao_tv_show.viewership_score)"
      ],
      "metadata": {
        "colab": {
          "base_uri": "https://localhost:8080/"
        },
        "id": "7nATj8dNeSQ-",
        "outputId": "b622f0d9-57cd-4582-bb24-54e5148a66f5"
      },
      "execution_count": 194,
      "outputs": [
        {
          "output_type": "execute_result",
          "data": {
            "text/plain": [
              "(74.38259997547424, 106.24637528954342)"
            ]
          },
          "metadata": {},
          "execution_count": 194
        }
      ]
    },
    {
      "cell_type": "markdown",
      "source": [
        "#**Comparação de dois conjuntos da amostra**"
      ],
      "metadata": {
        "id": "MjZSt25Kjehq"
      }
    },
    {
      "cell_type": "code",
      "source": [
        "print (ztest(pontuacao_tv_show.viewership_score, netflix.viewership_score))\n",
        "zconfint(pontuacao_tv_show.viewership_score, netflix.viewership_score)\n",
        "#A hipótese nula de que não há diferença na média é rejeitada"
      ],
      "metadata": {
        "colab": {
          "base_uri": "https://localhost:8080/"
        },
        "id": "6M7e_oYkiT8z",
        "outputId": "ccbca136-94ef-46cd-ee90-a29ea0fa8265"
      },
      "execution_count": 195,
      "outputs": [
        {
          "output_type": "stream",
          "name": "stdout",
          "text": [
            "(3.606404583565531, 0.0003104689463261255)\n"
          ]
        },
        {
          "output_type": "execute_result",
          "data": {
            "text/plain": [
              "(13.040437611344384, 44.087762459874824)"
            ]
          },
          "metadata": {},
          "execution_count": 195
        }
      ]
    },
    {
      "cell_type": "code",
      "source": [
        "#plotando bloxpot para os dois tipos de produto Netflix (- outliers)\n",
        "plt.boxplot([(pontuacao_tv_show.query(f'viewership_score>={limite_inferior} and viewership_score<={limite_superior}').viewership_score), (netflix.query(f'viewership_score>={limite_inferior} and viewership_score<={limite_superior}').viewership_score)], labels=[\"Pontuação - Séries\", \"Pontuação - Total\"])\n",
        "plt.title(\"Distribuição das notas de acordo com os produtos\")"
      ],
      "metadata": {
        "colab": {
          "base_uri": "https://localhost:8080/",
          "height": 299
        },
        "id": "IVlkZhzhi8pb",
        "outputId": "c11f6800-4ec5-4cd4-b6d9-d56e77b5b3a1"
      },
      "execution_count": 196,
      "outputs": [
        {
          "output_type": "execute_result",
          "data": {
            "text/plain": [
              "Text(0.5, 1.0, 'Distribuição das notas de acordo com os produtos')"
            ]
          },
          "metadata": {},
          "execution_count": 196
        },
        {
          "output_type": "display_data",
          "data": {
            "text/plain": [
              "<Figure size 432x288 with 1 Axes>"
            ],
            "image/png": "[encoded data removed]"
          },
          "metadata": {
            "needs_background": "light"
          }
        }
      ]
    },
    {
      "cell_type": "code",
      "source": [
        "print (ztest(pontuacao_tv_show.viewership_score, pontuacao_movie.viewership_score))\n",
        "zconfint(pontuacao_tv_show.viewership_score, pontuacao_movie.viewership_score)\n",
        "#A hipótese nula de que não há diferença na média é rejeitada"
      ],
      "metadata": {
        "colab": {
          "base_uri": "https://localhost:8080/"
        },
        "id": "mr_Jfi4sifWB",
        "outputId": "e8173e63-d11f-4711-9872-ba62b48c25c5"
      },
      "execution_count": 197,
      "outputs": [
        {
          "output_type": "stream",
          "name": "stdout",
          "text": [
            "(6.71327444052813, 1.90304700124484e-11)\n"
          ]
        },
        {
          "output_type": "execute_result",
          "data": {
            "text/plain": [
              "(35.970044765390504, 65.63357838695109)"
            ]
          },
          "metadata": {},
          "execution_count": 197
        }
      ]
    },
    {
      "cell_type": "code",
      "source": [
        "print(pontuacao_tv_show.viewership_score.mean())\n",
        "print(pontuacao_movie.viewership_score.mean())\n",
        "print(len(pontuacao_tv_show), len(pontuacao_movie))"
      ],
      "metadata": {
        "colab": {
          "base_uri": "https://localhost:8080/"
        },
        "id": "uYouP7SE1mFi",
        "outputId": "cd9caf68-1364-493a-d47a-3bb180f5fbf2"
      },
      "execution_count": 198,
      "outputs": [
        {
          "output_type": "stream",
          "name": "stdout",
          "text": [
            "90.31448763250883\n",
            "39.51267605633803\n",
            "283 355\n"
          ]
        }
      ]
    },
    {
      "cell_type": "code",
      "source": [
        "#plotando bloxpot para os dois tipos de produto Netflix (- outliers)\n",
        "plt.boxplot([(pontuacao_tv_show.query(f'viewership_score>={limite_inferior} and viewership_score<={limite_superior}').viewership_score), (pontuacao_movie.query(f'viewership_score>={limite_inferior} and viewership_score<={limite_superior}').viewership_score)], labels=[\"Pontuação - Séries\", \"Pontuação - Filmes\"])\n",
        "plt.title(\"Distribuição das notas de acordo com os produtos\")"
      ],
      "metadata": {
        "colab": {
          "base_uri": "https://localhost:8080/",
          "height": 299
        },
        "id": "VF504kzrieva",
        "outputId": "bc910cb2-9a9d-43fb-ce44-70cebf2a3bbf"
      },
      "execution_count": 199,
      "outputs": [
        {
          "output_type": "execute_result",
          "data": {
            "text/plain": [
              "Text(0.5, 1.0, 'Distribuição das notas de acordo com os produtos')"
            ]
          },
          "metadata": {},
          "execution_count": 199
        },
        {
          "output_type": "display_data",
          "data": {
            "text/plain": [
              "<Figure size 432x288 with 1 Axes>"
            ],
            "image/png": "[encoded data removed]"
          },
          "metadata": {
            "needs_background": "light"
          }
        }
      ]
    }
  ]
}